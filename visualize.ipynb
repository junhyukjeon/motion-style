{
 "cells": [
  {
   "cell_type": "code",
   "execution_count": 1,
   "id": "aeea3389-196c-4f18-a442-cd596cff702e",
   "metadata": {},
   "outputs": [],
   "source": [
    "import numpy as np\n",
    "import torch\n",
    "from utils.motion import *\n",
    "from utils.skeleton import Skeleton"
   ]
  },
  {
   "cell_type": "code",
   "execution_count": 26,
   "id": "a3683f6f-db93-4045-876c-4392d4e49f8f",
   "metadata": {
    "scrolled": true
   },
   "outputs": [],
   "source": [
    "data = np.load(\"/source/junhyuk/motion-style/results/4/reconstruct/030075_reconstructed.npy\")\n",
    "# data = np.load(\"/source/junhyuk/motion-style/dataset/100style/new_joint_vecs/030001.npy\")\n",
    "data = torch.from_numpy(data).float()"
   ]
  },
  {
   "cell_type": "code",
   "execution_count": 27,
   "id": "be9c104b",
   "metadata": {},
   "outputs": [],
   "source": [
    "joint_pos = recover_from_ric(data, 22)\n",
    "# np.save(\"./test_gt.npy\", joint_pos)"
   ]
  },
  {
   "cell_type": "code",
   "execution_count": 17,
   "id": "a233cb37",
   "metadata": {},
   "outputs": [],
   "source": [
    "skel = np.load(\"./smpl22_offsets.npz\", allow_pickle=True)\n",
    "# offset = torch.tensor(skel[\"offsets\"], dtype=torch.float32)\n",
    "lengths = skel[\"lengths\"]\n",
    "parents = skel[\"parents\"]"
   ]
  },
  {
   "cell_type": "code",
   "execution_count": 4,
   "id": "85bdb378",
   "metadata": {},
   "outputs": [
    {
     "ename": "NameError",
     "evalue": "name 'offsets2' is not defined",
     "output_type": "error",
     "traceback": [
      "\u001b[31m---------------------------------------------------------------------------\u001b[39m",
      "\u001b[31mNameError\u001b[39m                                 Traceback (most recent call last)",
      "\u001b[36mCell\u001b[39m\u001b[36m \u001b[39m\u001b[32mIn[4]\u001b[39m\u001b[32m, line 91\u001b[39m\n\u001b[32m     88\u001b[39m     plt.show()\n\u001b[32m     90\u001b[39m \u001b[38;5;66;03m# Example:\u001b[39;00m\n\u001b[32m---> \u001b[39m\u001b[32m91\u001b[39m visualize_offsets(\u001b[43moffsets2\u001b[49m, parents=SMPL22_PARENTS, annotate=\u001b[38;5;28;01mTrue\u001b[39;00m, y_up=\u001b[38;5;28;01mTrue\u001b[39;00m, assume_local=\u001b[38;5;28;01mTrue\u001b[39;00m)\n",
      "\u001b[31mNameError\u001b[39m: name 'offsets2' is not defined"
     ]
    }
   ],
   "source": [
    "%matplotlib inline\n",
    "import numpy as np\n",
    "import matplotlib.pyplot as plt\n",
    "\n",
    "# === Default SMPL-22 parent list (index-aligned) ===\n",
    "# -1 means \"no parent\" (root)\n",
    "SMPL22_PARENTS = [\n",
    "    -1,  # 0 pelvis\n",
    "     0,  # 1 left_hip\n",
    "     0,  # 2 right_hip\n",
    "     0,  # 3 spine1\n",
    "     1,  # 4 left_knee\n",
    "     2,  # 5 right_knee\n",
    "     3,  # 6 spine2\n",
    "     4,  # 7 left_ankle\n",
    "     5,  # 8 right_ankle\n",
    "     6,  # 9 spine3\n",
    "     7,  # 10 left_foot\n",
    "     8,  # 11 right_foot\n",
    "     9,  # 12 neck\n",
    "    12,  # 13 left_collar\n",
    "    12,  # 14 right_collar\n",
    "    12,  # 15 head\n",
    "    13,  # 16 left_shoulder\n",
    "    14,  # 17 right_shoulder\n",
    "    16,  # 18 left_elbow\n",
    "    17,  # 19 right_elbow\n",
    "    18,  # 20 left_wrist\n",
    "    19,  # 21 right_wrist\n",
    "]\n",
    "\n",
    "def fk_from_offsets(offsets, parents, assume_local=True):\n",
    "    \"\"\"Return world/rest positions from offsets.\n",
    "       If assume_local=True, treats offsets[j] as the vector from parent(j) to j.\"\"\"\n",
    "    offsets = np.asarray(offsets, float)\n",
    "    J = offsets.shape[0]\n",
    "    if not assume_local:\n",
    "        return offsets.copy()\n",
    "    pos = np.zeros_like(offsets)\n",
    "    # Root: most formats store [0,0,0]; keep whatever is given\n",
    "    pos[0] = offsets[0]\n",
    "    for j in range(1, J):\n",
    "        p = parents[j]\n",
    "        pos[j] = pos[p] + offsets[j]\n",
    "    return pos\n",
    "\n",
    "def visualize_offsets(offsets, parents=None, annotate=True, y_up=False, assume_local=True, center_root=True, invert_z_axis=True):\n",
    "    offsets = np.asarray(offsets, float)\n",
    "    assert offsets.ndim == 2 and offsets.shape[1] == 3, \"offsets must be [J,3]\"\n",
    "\n",
    "    # 1) Convert local offsets -> world positions\n",
    "    P = fk_from_offsets(offsets, parents, assume_local=assume_local) if parents is not None else offsets.copy()\n",
    "\n",
    "    # Optional: center root to origin for a cleaner view\n",
    "    if center_root:\n",
    "        P = P - P[0:1]\n",
    "\n",
    "    # 2) Y-up swap only for plotting\n",
    "    plot_xyz = P[:, [0, 2, 1]] if y_up else P\n",
    "\n",
    "    fig = plt.figure()\n",
    "    ax = fig.add_subplot(111, projection=\"3d\")\n",
    "    ax.scatter(plot_xyz[:, 0], plot_xyz[:, 1], plot_xyz[:, 2])\n",
    "\n",
    "    if parents is not None:\n",
    "        for j, p in enumerate(parents):\n",
    "            if p >= 0:\n",
    "                ax.plot([plot_xyz[p,0], plot_xyz[j,0]],\n",
    "                        [plot_xyz[p,1], plot_xyz[j,1]],\n",
    "                        [plot_xyz[p,2], plot_xyz[j,2]])\n",
    "\n",
    "    if annotate:\n",
    "        for i, (x, y, z) in enumerate(plot_xyz):\n",
    "            ax.text(x, y, z, str(i))\n",
    "\n",
    "    mins, maxs = plot_xyz.min(0), plot_xyz.max(0)\n",
    "    center, radius = (mins+maxs)/2.0, (maxs-mins).max()/2.0\n",
    "    ax.set_xlim(center[0]-radius, center[0]+radius)\n",
    "    ax.set_ylim(center[1]-radius, center[1]+radius)\n",
    "    ax.set_zlim(center[2]-radius, center[2]+radius)\n",
    "    try: ax.set_box_aspect([1,1,1])\n",
    "    except: pass\n",
    "\n",
    "    ax.set_xlabel(\"X\")\n",
    "    ax.set_ylabel(\"Z\" if y_up else \"Y\")\n",
    "    ax.set_zlabel(\"Y (up)\" if y_up else \"Z (up)\")\n",
    "    ax.set_title(\"Rest Pose — \" + (\"Y-up\" if y_up else \"Z-up\") + (\" (local→world)\" if assume_local else \" (absolute)\"))\n",
    "    plt.show()\n",
    "\n",
    "# Example:\n",
    "visualize_offsets(offsets2, parents=SMPL22_PARENTS, annotate=True, y_up=True, assume_local=True)"
   ]
  },
  {
   "cell_type": "code",
   "execution_count": 5,
   "id": "b2f43f74",
   "metadata": {},
   "outputs": [
    {
     "ename": "NameError",
     "evalue": "name 'offsets' is not defined",
     "output_type": "error",
     "traceback": [
      "\u001b[31m---------------------------------------------------------------------------\u001b[39m",
      "\u001b[31mNameError\u001b[39m                                 Traceback (most recent call last)",
      "\u001b[36mCell\u001b[39m\u001b[36m \u001b[39m\u001b[32mIn[5]\u001b[39m\u001b[32m, line 1\u001b[39m\n\u001b[32m----> \u001b[39m\u001b[32m1\u001b[39m visualize_offsets(\u001b[43moffsets\u001b[49m, parents=SMPL22_PARENTS, annotate=\u001b[38;5;28;01mTrue\u001b[39;00m, y_up=\u001b[38;5;28;01mTrue\u001b[39;00m, assume_local=\u001b[38;5;28;01mTrue\u001b[39;00m)\n",
      "\u001b[31mNameError\u001b[39m: name 'offsets' is not defined"
     ]
    }
   ],
   "source": [
    "visualize_offsets(offsets, parents=SMPL22_PARENTS, annotate=True, y_up=True, assume_local=True)"
   ]
  },
  {
   "cell_type": "code",
   "execution_count": 48,
   "id": "93b2c09e",
   "metadata": {},
   "outputs": [],
   "source": [
    "# idk = np.array(\n",
    "#     [\n",
    "#         [0, 0, 0],\n",
    "#         [1, 0, 0],\n",
    "#         [-1 ,0, 0],\n",
    "#         [0, 1, 0],\n",
    "#         [0, -1, 0],\n",
    "#         [0, -1, 0],\n",
    "#         [0, 1, 0],\n",
    "#         [0, -1, 0],\n",
    "#         [0, -1, 0],\n",
    "#         [0, 1, 0],\n",
    "#         [0, 0, 1],\n",
    "#         [0, 0, 1],\n",
    "#         [0, 1, 0],\n",
    "#         [1, 0, 0],\n",
    "#         [-1, 0, 0],\n",
    "#         [0, 0, 1],\n",
    "#         [0, -1, 0],\n",
    "#         [0, -1, 0],\n",
    "#         [0, -1, 0],\n",
    "#         [0, -1, 0],\n",
    "#         [0, -1, 0],\n",
    "#         [0, -1, 0]\n",
    "#     ]\n",
    "# )"
   ]
  },
  {
   "cell_type": "code",
   "execution_count": 49,
   "id": "563687a0",
   "metadata": {},
   "outputs": [],
   "source": [
    "# parents = np.array([\n",
    "#     -1,  # 0 pelvis\n",
    "#      0,  # 1 left_hip\n",
    "#      0,  # 2 right_hip\n",
    "#      0,  # 3 spine1\n",
    "#      1,  # 4 left_knee\n",
    "#      2,  # 5 right_knee\n",
    "#      3,  # 6 spine2\n",
    "#      4,  # 7 left_ankle\n",
    "#      5,  # 8 right_ankle\n",
    "#      6,  # 9 spine3\n",
    "#      7,  # 10 left_foot\n",
    "#      8,  # 11 right_foot\n",
    "#      9,  # 12 neck\n",
    "#      9,  # 13 left_collar\n",
    "#      9,  # 14 right_collar\n",
    "#     12,  # 15 head\n",
    "#     13,  # 16 left_shoulder\n",
    "#     14,  # 17 right_shoulder\n",
    "#     16,  # 18 left_elbow\n",
    "#     17,  # 19 right_elbow\n",
    "#     18,  # 20 left_wrist\n",
    "#     19,  # 21 right_wrist\n",
    "# ], dtype=np.int32)"
   ]
  },
  {
   "cell_type": "code",
   "execution_count": 18,
   "id": "a95c273d",
   "metadata": {},
   "outputs": [],
   "source": [
    "skeleton = Skeleton(parents, lengths)"
   ]
  },
  {
   "cell_type": "code",
   "execution_count": 62,
   "id": "4400e115",
   "metadata": {},
   "outputs": [],
   "source": [
    "# skeleton = Skeleton(offset, kinematic_tree, device='cpu')\n",
    "# skeleton.set_offset(offset)"
   ]
  },
  {
   "cell_type": "code",
   "execution_count": 20,
   "id": "3a95751f",
   "metadata": {},
   "outputs": [],
   "source": [
    "joint_pos2 = recover_from_rot(data, 22, skeleton).numpy()\n",
    "np.save(\"./test_rot.npy\", joint_pos2)"
   ]
  },
  {
   "cell_type": "code",
   "execution_count": 16,
   "id": "8adc9ed4",
   "metadata": {},
   "outputs": [
    {
     "data": {
      "text/plain": [
       "tensor([[ 0.0000,  0.9403,  0.0000],\n",
       "        [ 0.0613,  0.8623, -0.0246],\n",
       "        [-0.0617,  0.8515, -0.0143],\n",
       "        [-0.0071,  1.0701, -0.0062],\n",
       "        [ 0.1176,  0.4926,  0.0888],\n",
       "        [-0.1209,  0.4694, -0.0090],\n",
       "        [-0.0139,  1.2228,  0.0398],\n",
       "        [ 0.1220,  0.0715,  0.1076],\n",
       "        [-0.0539,  0.1622, -0.2014],\n",
       "        [-0.0053,  1.2598,  0.0779],\n",
       "        [ 0.1537,  0.0177,  0.2304],\n",
       "        [-0.0830,  0.0543, -0.1627],\n",
       "        [ 0.0091,  1.4875,  0.1160],\n",
       "        [ 0.0750,  1.3792,  0.0767],\n",
       "        [-0.0703,  1.3911,  0.0951],\n",
       "        [ 0.0291,  1.5502,  0.1916],\n",
       "        [ 0.2023,  1.4053,  0.0725],\n",
       "        [-0.1873,  1.4183,  0.1146],\n",
       "        [ 0.4207,  1.2381,  0.0463],\n",
       "        [-0.4080,  1.2644,  0.1222],\n",
       "        [ 0.6514,  1.1134,  0.0692],\n",
       "        [-0.6240,  1.0861,  0.1270]])"
      ]
     },
     "execution_count": 16,
     "metadata": {},
     "output_type": "execute_result"
    }
   ],
   "source": [
    "joint_pos[0]"
   ]
  },
  {
   "cell_type": "code",
   "execution_count": 28,
   "id": "0cb844bb",
   "metadata": {},
   "outputs": [],
   "source": [
    "kinematic_chain = [[0, 2, 5, 8, 11], [0, 1, 4, 7, 10], [0, 3, 6, 9, 12, 15], [9, 14, 17, 19, 21], [9, 13, 16, 18, 20]]"
   ]
  },
  {
   "cell_type": "code",
   "execution_count": 30,
   "id": "2b7d6de2",
   "metadata": {},
   "outputs": [
    {
     "ename": "AttributeError",
     "evalue": "'Tensor' object has no attribute 'copy'",
     "output_type": "error",
     "traceback": [
      "\u001b[31m---------------------------------------------------------------------------\u001b[39m",
      "\u001b[31mAttributeError\u001b[39m                            Traceback (most recent call last)",
      "\u001b[36mCell\u001b[39m\u001b[36m \u001b[39m\u001b[32mIn[30]\u001b[39m\u001b[32m, line 4\u001b[39m\n\u001b[32m      2\u001b[39m \u001b[38;5;28;01mfrom\u001b[39;00m\u001b[38;5;250m \u001b[39m\u001b[34;01msalad\u001b[39;00m\u001b[34;01m.\u001b[39;00m\u001b[34;01mutils\u001b[39;00m\u001b[34;01m.\u001b[39;00m\u001b[34;01mplot_script\u001b[39;00m\u001b[38;5;250m \u001b[39m\u001b[38;5;28;01mimport\u001b[39;00m plot_3d_motion\n\u001b[32m      3\u001b[39m save_path = os.path.join(\u001b[33m\"\u001b[39m\u001b[33m./delete2.mp4\u001b[39m\u001b[33m\"\u001b[39m)\n\u001b[32m----> \u001b[39m\u001b[32m4\u001b[39m \u001b[43mplot_3d_motion\u001b[49m\u001b[43m(\u001b[49m\u001b[43msave_path\u001b[49m\u001b[43m,\u001b[49m\u001b[43m \u001b[49m\u001b[43mkinematic_chain\u001b[49m\u001b[43m,\u001b[49m\u001b[43m \u001b[49m\u001b[43mjoint_pos\u001b[49m\u001b[43m,\u001b[49m\u001b[43m \u001b[49m\u001b[43mtitle\u001b[49m\u001b[43m=\u001b[49m\u001b[33;43m'\u001b[39;49m\u001b[33;43mtest\u001b[39;49m\u001b[33;43m'\u001b[39;49m\u001b[43m,\u001b[49m\u001b[43m \u001b[49m\u001b[43mfps\u001b[49m\u001b[43m=\u001b[49m\u001b[32;43m20\u001b[39;49m\u001b[43m)\u001b[49m;\n",
      "\u001b[36mFile \u001b[39m\u001b[32m/source/junhyuk/motion-style/salad/utils/plot_script.py:358\u001b[39m, in \u001b[36mplot_3d_motion\u001b[39m\u001b[34m(save_path, kinematic_tree, joints, title, figsize, fps, radius)\u001b[39m\n\u001b[32m    353\u001b[39m     ax.add_collection3d(xz_plane)\n\u001b[32m    355\u001b[39m \u001b[38;5;66;03m#         return ax\u001b[39;00m\n\u001b[32m    356\u001b[39m \n\u001b[32m    357\u001b[39m \u001b[38;5;66;03m# (seq_len, joints_num, 3)\u001b[39;00m\n\u001b[32m--> \u001b[39m\u001b[32m358\u001b[39m data = \u001b[43mjoints\u001b[49m\u001b[43m.\u001b[49m\u001b[43mcopy\u001b[49m().reshape(\u001b[38;5;28mlen\u001b[39m(joints), -\u001b[32m1\u001b[39m, \u001b[32m3\u001b[39m)\n\u001b[32m    359\u001b[39m fig = plt.figure(figsize=figsize)\n\u001b[32m    360\u001b[39m ax = p3.Axes3D(fig)\n",
      "\u001b[31mAttributeError\u001b[39m: 'Tensor' object has no attribute 'copy'"
     ]
    }
   ],
   "source": [
    "import os\n",
    "from salad.utils.plot_script import plot_3d_motion\n",
    "save_path = os.path.join(\"./delete2.mp4\")\n",
    "plot_3d_motion(save_path, kinematic_chain, joint_pos, title='test', fps=20);"
   ]
  },
  {
   "cell_type": "code",
   "execution_count": 105,
   "id": "eb2ae9e8",
   "metadata": {},
   "outputs": [
    {
     "ename": "NameError",
     "evalue": "name 'get_opt' is not defined",
     "output_type": "error",
     "traceback": [
      "\u001b[31m---------------------------------------------------------------------------\u001b[39m",
      "\u001b[31mNameError\u001b[39m                                 Traceback (most recent call last)",
      "\u001b[36mCell\u001b[39m\u001b[36m \u001b[39m\u001b[32mIn[105]\u001b[39m\u001b[32m, line 4\u001b[39m\n\u001b[32m      1\u001b[39m \u001b[38;5;28;01mfrom\u001b[39;00m\u001b[38;5;250m \u001b[39m\u001b[34;01mglob\u001b[39;00m\u001b[38;5;250m \u001b[39m\u001b[38;5;28;01mimport\u001b[39;00m glob\n\u001b[32m      3\u001b[39m device = \u001b[33m'\u001b[39m\u001b[33mcuda:0\u001b[39m\u001b[33m'\u001b[39m\n\u001b[32m----> \u001b[39m\u001b[32m4\u001b[39m opt = \u001b[43mget_opt\u001b[49m(\u001b[33m\"\u001b[39m\u001b[33mcheckpoints/t2m/t2m_denoiser_vpred_vaegelu/opt.txt\u001b[39m\u001b[33m\"\u001b[39m, device)\n\u001b[32m      6\u001b[39m input_folder = \u001b[33m\"\u001b[39m\u001b[33m/source/junhyuk/motion-style/results/4/style\u001b[39m\u001b[33m\"\u001b[39m\n\u001b[32m      7\u001b[39m output_folder = \u001b[33m\"\u001b[39m\u001b[33mvideo/4/style\u001b[39m\u001b[33m\"\u001b[39m\n",
      "\u001b[31mNameError\u001b[39m: name 'get_opt' is not defined"
     ]
    }
   ],
   "source": [
    "from glob import glob\n",
    "\n",
    "device = 'cuda:0'\n",
    "opt = get_opt(\"checkpoints/t2m/t2m_denoiser_vpred_vaegelu/opt.txt\", device)\n",
    "\n",
    "input_folder = \"/source/junhyuk/motion-style/results/4/style\"\n",
    "output_folder = \"video/4/style\"\n",
    "os.makedirs(output_folder, exist_ok=True)\n",
    "\n",
    "npy_files = sorted(glob(os.path.join(input_folder, \"*.npy\")))\n",
    "\n",
    "for npy_file in npy_files:\n",
    "    filename = os.path.basename(npy_file)\n",
    "    basename = os.path.splitext(filename)[0]  # e.g., \"030075_reconstructed\"\n",
    "\n",
    "    data = np.load(npy_file)\n",
    "    joint = recover_from_ric(torch.from_numpy(data).float(), opt.joints_num).numpy()\n",
    "\n",
    "    save_path = os.path.join(output_folder, f\"{basename}.mp4\")\n",
    "    plot_3d_motion(save_path, opt.kinematic_chain, joint, title=basename, fps=20)\n",
    "\n",
    "    print(\"✅ Saved\", save_path)"
   ]
  },
  {
   "cell_type": "code",
   "execution_count": 35,
   "id": "b2ab23b6-1264-411f-b71d-33fe1157105f",
   "metadata": {},
   "outputs": [],
   "source": [
    "import matplotlib.pyplot as plt\n",
    "from mpl_toolkits.mplot3d import Axes3D\n",
    "\n",
    "def show_frame_by_frame(joint_seq, skeleton):\n",
    "    for t in range(joint_seq.shape[0]):\n",
    "        joints = joint_seq[t]\n",
    "\n",
    "        fig = plt.figure(figsize=(6, 6))\n",
    "        ax = fig.add_subplot(111, projection='3d')\n",
    "        ax.set_title(f\"Frame {t}\")\n",
    "        ax.set_xlim(-1, 1)\n",
    "        ax.set_ylim(-1, 1)\n",
    "        ax.set_zlim(0, 2)\n",
    "        ax.set_xlabel(\"X\")\n",
    "        ax.set_ylabel(\"Z\")\n",
    "        ax.set_zlabel(\"Y\")\n",
    "        ax.view_init(elev=110, azim=-90)\n",
    "\n",
    "        # Draw joints and bones\n",
    "        ax.scatter(joints[:, 0], joints[:, 2], joints[:, 1], c='blue', s=20)\n",
    "        for i, j in skeleton:\n",
    "            ax.plot(\n",
    "                [joints[i, 0], joints[j, 0]],\n",
    "                [joints[i, 2], joints[j, 2]],\n",
    "                [joints[i, 1], joints[j, 1]],\n",
    "                c='blue', linewidth=2\n",
    "            )\n",
    "\n",
    "        plt.show()\n",
    "        input(\"Press Enter for next frame...\")\n",
    "        plt.close(fig)"
   ]
  }
 ],
 "metadata": {
  "kernelspec": {
   "display_name": "Python 3 (ipykernel)",
   "language": "python",
   "name": "python3"
  },
  "language_info": {
   "codemirror_mode": {
    "name": "ipython",
    "version": 3
   },
   "file_extension": ".py",
   "mimetype": "text/x-python",
   "name": "python",
   "nbconvert_exporter": "python",
   "pygments_lexer": "ipython3",
   "version": "3.10.16"
  }
 },
 "nbformat": 4,
 "nbformat_minor": 5
}
