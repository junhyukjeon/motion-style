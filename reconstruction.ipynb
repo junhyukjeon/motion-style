{
 "cells": [
  {
   "cell_type": "code",
   "execution_count": 1,
   "id": "9577bb03",
   "metadata": {},
   "outputs": [],
   "source": [
    "# from salad.t2m import Text2Motion\n",
    "from salad.utils.get_opt import get_opt\n",
    "\n",
    "from salad.utils.fixseed import fixseed\n",
    "\n",
    "import torch\n",
    "import numpy as np\n",
    "from os.path import join as pjoin\n",
    "\n",
    "import os\n",
    "from os.path import join as pjoin\n",
    "import torch\n",
    "import numpy as np\n",
    "from utils.motion import recover_from_ric\n",
    "from salad.utils.plot_script import plot_3d_motion\n",
    "from salad.utils.get_opt import get_opt\n",
    "\n",
    "from salad.data.t2m_dataset import MotionDataset\n",
    "from torch.utils.data import DataLoader\n",
    "\n",
    "def plot_t2m(data, text, filename):\n",
    "    os.makedirs(\"reconstruction_result\", exist_ok=True)\n",
    "    data = data\n",
    "    joint = recover_from_ric(torch.from_numpy(data).float(), opt.joints_num).numpy()\n",
    "    save_path = pjoin(\"reconstruction_result\", f\"{filename}.mp4\")\n",
    "    plot_3d_motion(save_path, opt.kinematic_chain, joint, title=text, fps=20)\n",
    "\n",
    "    np.save(pjoin(\"reconstruction_result\", f\"{filename}_pos.npy\"), joint)\n",
    "    np.save(pjoin(\"reconstruction_result\", f\"{filename}_feats.npy\"), data)\n",
    "\n",
    "def plot_og(motion_path, text, filename):\n",
    "    os.makedirs(\"og_result\", exist_ok=True)\n",
    "    joint = np.load(motion_path)[:260]\n",
    "    print(joint.shape)\n",
    "    save_path = pjoin(\"og_result\", f\"{filename}.mp4\")\n",
    "    plot_3d_motion(save_path, opt.kinematic_chain, joint, title=text, fps=20)\n",
    "    np.save(pjoin(\"og_result\", f\"{filename}_pos.npy\"), joint)\n",
    "    # np.save(pjoin(\"og_result\", f\"{filename}_feats.npy\"), )"
   ]
  },
  {
   "cell_type": "code",
   "execution_count": 2,
   "id": "7f82cf4c",
   "metadata": {
    "collapsed": true,
    "jupyter": {
     "outputs_hidden": true
    }
   },
   "outputs": [
    {
     "name": "stdout",
     "output_type": "stream",
     "text": [
      "Reading checkpoints/t2m/t2m_denoiser_vpred_vaegelu/opt.txt\n",
      "✅ Saved video/9/reconstruct/030303_reconstructed.mp4\n",
      "✅ Saved video/9/reconstruct/030333_reconstructed.mp4\n",
      "✅ Saved video/9/reconstruct/030346_reconstructed.mp4\n",
      "✅ Saved video/9/reconstruct/030479_reconstructed.mp4\n",
      "✅ Saved video/9/reconstruct/030498_reconstructed.mp4\n",
      "✅ Saved video/9/reconstruct/030886_reconstructed.mp4\n",
      "✅ Saved video/9/reconstruct/030897_reconstructed.mp4\n",
      "✅ Saved video/9/reconstruct/030951_reconstructed.mp4\n",
      "✅ Saved video/9/reconstruct/031680_reconstructed.mp4\n"
     ]
    },
    {
     "ename": "CalledProcessError",
     "evalue": "Command '['ffmpeg', '-f', 'rawvideo', '-vcodec', 'rawvideo', '-s', '1000x1000', '-pix_fmt', 'rgba', '-framerate', '20', '-loglevel', 'error', '-i', 'pipe:', '-vcodec', 'h264', '-pix_fmt', 'yuv420p', '-y', 'video/9/reconstruct/031715_reconstructed.mp4']' returned non-zero exit status 255.",
     "output_type": "error",
     "traceback": [
      "\u001b[31m---------------------------------------------------------------------------\u001b[39m",
      "\u001b[31mKeyboardInterrupt\u001b[39m                         Traceback (most recent call last)",
      "\u001b[36mFile \u001b[39m\u001b[32m/opt/conda/envs/style/lib/python3.11/site-packages/matplotlib/animation.py:224\u001b[39m, in \u001b[36mAbstractMovieWriter.saving\u001b[39m\u001b[34m(self, fig, outfile, dpi, *args, **kwargs)\u001b[39m\n\u001b[32m    223\u001b[39m \u001b[38;5;28;01mtry\u001b[39;00m:\n\u001b[32m--> \u001b[39m\u001b[32m224\u001b[39m     \u001b[38;5;28;01myield\u001b[39;00m \u001b[38;5;28mself\u001b[39m\n\u001b[32m    225\u001b[39m \u001b[38;5;28;01mfinally\u001b[39;00m:\n",
      "\u001b[36mFile \u001b[39m\u001b[32m/opt/conda/envs/style/lib/python3.11/site-packages/matplotlib/animation.py:1122\u001b[39m, in \u001b[36mAnimation.save\u001b[39m\u001b[34m(self, filename, writer, fps, dpi, codec, bitrate, extra_args, metadata, extra_anim, savefig_kwargs, progress_callback)\u001b[39m\n\u001b[32m   1120\u001b[39m \u001b[38;5;28;01mfor\u001b[39;00m anim, d \u001b[38;5;129;01min\u001b[39;00m \u001b[38;5;28mzip\u001b[39m(all_anim, data):\n\u001b[32m   1121\u001b[39m     \u001b[38;5;66;03m# TODO: See if turning off blit is really necessary\u001b[39;00m\n\u001b[32m-> \u001b[39m\u001b[32m1122\u001b[39m     \u001b[43manim\u001b[49m\u001b[43m.\u001b[49m\u001b[43m_draw_next_frame\u001b[49m\u001b[43m(\u001b[49m\u001b[43md\u001b[49m\u001b[43m,\u001b[49m\u001b[43m \u001b[49m\u001b[43mblit\u001b[49m\u001b[43m=\u001b[49m\u001b[38;5;28;43;01mFalse\u001b[39;49;00m\u001b[43m)\u001b[49m\n\u001b[32m   1123\u001b[39m     \u001b[38;5;28;01mif\u001b[39;00m progress_callback \u001b[38;5;129;01mis\u001b[39;00m \u001b[38;5;129;01mnot\u001b[39;00m \u001b[38;5;28;01mNone\u001b[39;00m:\n",
      "\u001b[36mFile \u001b[39m\u001b[32m/opt/conda/envs/style/lib/python3.11/site-packages/matplotlib/animation.py:1157\u001b[39m, in \u001b[36mAnimation._draw_next_frame\u001b[39m\u001b[34m(self, framedata, blit)\u001b[39m\n\u001b[32m   1156\u001b[39m \u001b[38;5;28mself\u001b[39m._pre_draw(framedata, blit)\n\u001b[32m-> \u001b[39m\u001b[32m1157\u001b[39m \u001b[38;5;28;43mself\u001b[39;49m\u001b[43m.\u001b[49m\u001b[43m_draw_frame\u001b[49m\u001b[43m(\u001b[49m\u001b[43mframedata\u001b[49m\u001b[43m)\u001b[49m\n\u001b[32m   1158\u001b[39m \u001b[38;5;28mself\u001b[39m._post_draw(framedata, blit)\n",
      "\u001b[36mFile \u001b[39m\u001b[32m/opt/conda/envs/style/lib/python3.11/site-packages/matplotlib/animation.py:1789\u001b[39m, in \u001b[36mFuncAnimation._draw_frame\u001b[39m\u001b[34m(self, framedata)\u001b[39m\n\u001b[32m   1787\u001b[39m \u001b[38;5;66;03m# Call the func with framedata and args. If blitting is desired,\u001b[39;00m\n\u001b[32m   1788\u001b[39m \u001b[38;5;66;03m# func needs to return a sequence of any artists that were modified.\u001b[39;00m\n\u001b[32m-> \u001b[39m\u001b[32m1789\u001b[39m \u001b[38;5;28mself\u001b[39m._drawn_artists = \u001b[38;5;28;43mself\u001b[39;49m\u001b[43m.\u001b[49m\u001b[43m_func\u001b[49m\u001b[43m(\u001b[49m\u001b[43mframedata\u001b[49m\u001b[43m,\u001b[49m\u001b[43m \u001b[49m\u001b[43m*\u001b[49m\u001b[38;5;28;43mself\u001b[39;49m\u001b[43m.\u001b[49m\u001b[43m_args\u001b[49m\u001b[43m)\u001b[49m\n\u001b[32m   1791\u001b[39m \u001b[38;5;28;01mif\u001b[39;00m \u001b[38;5;28mself\u001b[39m._blit:\n",
      "\u001b[36mFile \u001b[39m\u001b[32m/source/junhyuk/motion-style/salad/utils/plot_script.py:413\u001b[39m, in \u001b[36mplot_3d_motion.<locals>.update\u001b[39m\u001b[34m(index)\u001b[39m\n\u001b[32m    412\u001b[39m ax.set_yticklabels([])\n\u001b[32m--> \u001b[39m\u001b[32m413\u001b[39m \u001b[43max\u001b[49m\u001b[43m.\u001b[49m\u001b[43mset_zticklabels\u001b[49m\u001b[43m(\u001b[49m\u001b[43m[\u001b[49m\u001b[43m]\u001b[49m\u001b[43m)\u001b[49m\n",
      "\u001b[36mFile \u001b[39m\u001b[32m/opt/conda/envs/style/lib/python3.11/site-packages/matplotlib/axes/_base.py:74\u001b[39m, in \u001b[36m_axis_method_wrapper.__set_name__.<locals>.wrapper\u001b[39m\u001b[34m(self, *args, **kwargs)\u001b[39m\n\u001b[32m     73\u001b[39m \u001b[38;5;28;01mdef\u001b[39;00m\u001b[38;5;250m \u001b[39m\u001b[34mwrapper\u001b[39m(\u001b[38;5;28mself\u001b[39m, *args, **kwargs):\n\u001b[32m---> \u001b[39m\u001b[32m74\u001b[39m     \u001b[38;5;28;01mreturn\u001b[39;00m \u001b[43mget_method\u001b[49m\u001b[43m(\u001b[49m\u001b[38;5;28;43mself\u001b[39;49m\u001b[43m)\u001b[49m\u001b[43m(\u001b[49m\u001b[43m*\u001b[49m\u001b[43margs\u001b[49m\u001b[43m,\u001b[49m\u001b[43m \u001b[49m\u001b[43m*\u001b[49m\u001b[43m*\u001b[49m\u001b[43mkwargs\u001b[49m\u001b[43m)\u001b[49m\n",
      "\u001b[36mFile \u001b[39m\u001b[32m/opt/conda/envs/style/lib/python3.11/site-packages/matplotlib/axis.py:2142\u001b[39m, in \u001b[36mAxis.set_ticklabels\u001b[39m\u001b[34m(self, labels, minor, fontdict, **kwargs)\u001b[39m\n\u001b[32m   2141\u001b[39m         locs = \u001b[38;5;28mself\u001b[39m.get_majorticklocs()\n\u001b[32m-> \u001b[39m\u001b[32m2142\u001b[39m         ticks = \u001b[38;5;28;43mself\u001b[39;49m\u001b[43m.\u001b[49m\u001b[43mget_major_ticks\u001b[49m\u001b[43m(\u001b[49m\u001b[38;5;28;43mlen\u001b[39;49m\u001b[43m(\u001b[49m\u001b[43mlocs\u001b[49m\u001b[43m)\u001b[49m\u001b[43m)\u001b[49m\n\u001b[32m   2144\u001b[39m ret = []\n",
      "\u001b[36mFile \u001b[39m\u001b[32m/opt/conda/envs/style/lib/python3.11/site-packages/mpl_toolkits/mplot3d/axis3d.py:178\u001b[39m, in \u001b[36mAxis.get_major_ticks\u001b[39m\u001b[34m(self, numticks)\u001b[39m\n\u001b[32m    176\u001b[39m     \u001b[38;5;28;01mfor\u001b[39;00m obj \u001b[38;5;129;01min\u001b[39;00m [\n\u001b[32m    177\u001b[39m             t.tick1line, t.tick2line, t.gridline, t.label1, t.label2]:\n\u001b[32m--> \u001b[39m\u001b[32m178\u001b[39m         \u001b[43mobj\u001b[49m\u001b[43m.\u001b[49m\u001b[43mset_transform\u001b[49m\u001b[43m(\u001b[49m\u001b[38;5;28;43mself\u001b[39;49m\u001b[43m.\u001b[49m\u001b[43maxes\u001b[49m\u001b[43m.\u001b[49m\u001b[43mtransData\u001b[49m\u001b[43m)\u001b[49m\n\u001b[32m    179\u001b[39m \u001b[38;5;28;01mreturn\u001b[39;00m ticks\n",
      "\u001b[36mFile \u001b[39m\u001b[32m/opt/conda/envs/style/lib/python3.11/site-packages/matplotlib/artist.py:445\u001b[39m, in \u001b[36mArtist.set_transform\u001b[39m\u001b[34m(self, t)\u001b[39m\n\u001b[32m    444\u001b[39m \u001b[38;5;28mself\u001b[39m._transformSet = \u001b[38;5;28;01mTrue\u001b[39;00m\n\u001b[32m--> \u001b[39m\u001b[32m445\u001b[39m \u001b[38;5;28;43mself\u001b[39;49m\u001b[43m.\u001b[49m\u001b[43mpchanged\u001b[49m\u001b[43m(\u001b[49m\u001b[43m)\u001b[49m\n\u001b[32m    446\u001b[39m \u001b[38;5;28mself\u001b[39m.stale = \u001b[38;5;28;01mTrue\u001b[39;00m\n",
      "\u001b[36mFile \u001b[39m\u001b[32m/opt/conda/envs/style/lib/python3.11/site-packages/matplotlib/artist.py:425\u001b[39m, in \u001b[36mArtist.pchanged\u001b[39m\u001b[34m(self)\u001b[39m\n\u001b[32m    415\u001b[39m \u001b[38;5;250m\u001b[39m\u001b[33;03m\"\"\"\u001b[39;00m\n\u001b[32m    416\u001b[39m \u001b[33;03mCall all of the registered callbacks.\u001b[39;00m\n\u001b[32m    417\u001b[39m \n\u001b[32m   (...)\u001b[39m\u001b[32m    423\u001b[39m \u001b[33;03mremove_callback\u001b[39;00m\n\u001b[32m    424\u001b[39m \u001b[33;03m\"\"\"\u001b[39;00m\n\u001b[32m--> \u001b[39m\u001b[32m425\u001b[39m \u001b[38;5;28;43mself\u001b[39;49m\u001b[43m.\u001b[49m\u001b[43m_callbacks\u001b[49m\u001b[43m.\u001b[49m\u001b[43mprocess\u001b[49m\u001b[43m(\u001b[49m\u001b[33;43m\"\u001b[39;49m\u001b[33;43mpchanged\u001b[39;49m\u001b[33;43m\"\u001b[39;49m\u001b[43m)\u001b[49m\n",
      "\u001b[36mFile \u001b[39m\u001b[32m/opt/conda/envs/style/lib/python3.11/site-packages/matplotlib/cbook.py:357\u001b[39m, in \u001b[36mCallbackRegistry.process\u001b[39m\u001b[34m(self, s, *args, **kwargs)\u001b[39m\n\u001b[32m    356\u001b[39m     _api.check_in_list(\u001b[38;5;28mself\u001b[39m._signals, signal=s)\n\u001b[32m--> \u001b[39m\u001b[32m357\u001b[39m \u001b[38;5;28;01mfor\u001b[39;00m ref \u001b[38;5;129;01min\u001b[39;00m \u001b[38;5;28mlist\u001b[39m(\u001b[38;5;28mself\u001b[39m.callbacks.get(s, {}).values()):\n\u001b[32m    358\u001b[39m     func = ref()\n",
      "\u001b[31mKeyboardInterrupt\u001b[39m: ",
      "\nDuring handling of the above exception, another exception occurred:\n",
      "\u001b[31mCalledProcessError\u001b[39m                        Traceback (most recent call last)",
      "\u001b[36mCell\u001b[39m\u001b[36m \u001b[39m\u001b[32mIn[2]\u001b[39m\u001b[32m, line 20\u001b[39m\n\u001b[32m     17\u001b[39m joint = recover_from_ric(torch.from_numpy(data).float(), opt.joints_num).numpy()\n\u001b[32m     19\u001b[39m save_path = os.path.join(output_folder, \u001b[33mf\u001b[39m\u001b[33m\"\u001b[39m\u001b[38;5;132;01m{\u001b[39;00mbasename\u001b[38;5;132;01m}\u001b[39;00m\u001b[33m.mp4\u001b[39m\u001b[33m\"\u001b[39m)\n\u001b[32m---> \u001b[39m\u001b[32m20\u001b[39m \u001b[43mplot_3d_motion\u001b[49m\u001b[43m(\u001b[49m\u001b[43msave_path\u001b[49m\u001b[43m,\u001b[49m\u001b[43m \u001b[49m\u001b[43mopt\u001b[49m\u001b[43m.\u001b[49m\u001b[43mkinematic_chain\u001b[49m\u001b[43m,\u001b[49m\u001b[43m \u001b[49m\u001b[43mjoint\u001b[49m\u001b[43m,\u001b[49m\u001b[43m \u001b[49m\u001b[43mtitle\u001b[49m\u001b[43m=\u001b[49m\u001b[43mbasename\u001b[49m\u001b[43m,\u001b[49m\u001b[43m \u001b[49m\u001b[43mfps\u001b[49m\u001b[43m=\u001b[49m\u001b[32;43m20\u001b[39;49m\u001b[43m)\u001b[49m\n\u001b[32m     22\u001b[39m \u001b[38;5;28mprint\u001b[39m(\u001b[33m\"\u001b[39m\u001b[33m✅ Saved\u001b[39m\u001b[33m\"\u001b[39m, save_path)\n",
      "\u001b[36mFile \u001b[39m\u001b[32m/source/junhyuk/motion-style/salad/utils/plot_script.py:418\u001b[39m, in \u001b[36mplot_3d_motion\u001b[39m\u001b[34m(save_path, kinematic_tree, joints, title, figsize, fps, radius)\u001b[39m\n\u001b[32m    415\u001b[39m ani = FuncAnimation(fig, update, frames=frame_number, interval=\u001b[32m1000\u001b[39m / fps, repeat=\u001b[38;5;28;01mFalse\u001b[39;00m)\n\u001b[32m    417\u001b[39m \u001b[38;5;66;03m# writer = FFMpegFileWriter(fps=fps)\u001b[39;00m\n\u001b[32m--> \u001b[39m\u001b[32m418\u001b[39m \u001b[43mani\u001b[49m\u001b[43m.\u001b[49m\u001b[43msave\u001b[49m\u001b[43m(\u001b[49m\u001b[43msave_path\u001b[49m\u001b[43m,\u001b[49m\u001b[43m \u001b[49m\u001b[43mfps\u001b[49m\u001b[43m=\u001b[49m\u001b[43mfps\u001b[49m\u001b[43m)\u001b[49m\n\u001b[32m    419\u001b[39m plt.close()\n",
      "\u001b[36mFile \u001b[39m\u001b[32m/opt/conda/envs/style/lib/python3.11/site-packages/matplotlib/animation.py:1098\u001b[39m, in \u001b[36mAnimation.save\u001b[39m\u001b[34m(self, filename, writer, fps, dpi, codec, bitrate, extra_args, metadata, extra_anim, savefig_kwargs, progress_callback)\u001b[39m\n\u001b[32m   1093\u001b[39m     \u001b[38;5;28;01mreturn\u001b[39;00m a * np.array([r, g, b]) + \u001b[32m1\u001b[39m - a\n\u001b[32m   1095\u001b[39m \u001b[38;5;66;03m# canvas._is_saving = True makes the draw_event animation-starting\u001b[39;00m\n\u001b[32m   1096\u001b[39m \u001b[38;5;66;03m# callback a no-op; canvas.manager = None prevents resizing the GUI\u001b[39;00m\n\u001b[32m   1097\u001b[39m \u001b[38;5;66;03m# widget (both are likewise done in savefig()).\u001b[39;00m\n\u001b[32m-> \u001b[39m\u001b[32m1098\u001b[39m \u001b[43m\u001b[49m\u001b[38;5;28;43;01mwith\u001b[39;49;00m\u001b[43m \u001b[49m\u001b[43m(\u001b[49m\u001b[43mwriter\u001b[49m\u001b[43m.\u001b[49m\u001b[43msaving\u001b[49m\u001b[43m(\u001b[49m\u001b[38;5;28;43mself\u001b[39;49m\u001b[43m.\u001b[49m\u001b[43m_fig\u001b[49m\u001b[43m,\u001b[49m\u001b[43m \u001b[49m\u001b[43mfilename\u001b[49m\u001b[43m,\u001b[49m\u001b[43m \u001b[49m\u001b[43mdpi\u001b[49m\u001b[43m)\u001b[49m\u001b[43m,\u001b[49m\n\u001b[32m   1099\u001b[39m \u001b[43m      \u001b[49m\u001b[43mcbook\u001b[49m\u001b[43m.\u001b[49m\u001b[43m_setattr_cm\u001b[49m\u001b[43m(\u001b[49m\u001b[38;5;28;43mself\u001b[39;49m\u001b[43m.\u001b[49m\u001b[43m_fig\u001b[49m\u001b[43m.\u001b[49m\u001b[43mcanvas\u001b[49m\u001b[43m,\u001b[49m\u001b[43m \u001b[49m\u001b[43m_is_saving\u001b[49m\u001b[43m=\u001b[49m\u001b[38;5;28;43;01mTrue\u001b[39;49;00m\u001b[43m,\u001b[49m\u001b[43m \u001b[49m\u001b[43mmanager\u001b[49m\u001b[43m=\u001b[49m\u001b[38;5;28;43;01mNone\u001b[39;49;00m\u001b[43m)\u001b[49m\u001b[43m)\u001b[49m\u001b[43m:\u001b[49m\n\u001b[32m   1100\u001b[39m \u001b[43m    \u001b[49m\u001b[38;5;28;43;01mif\u001b[39;49;00m\u001b[43m \u001b[49m\u001b[38;5;129;43;01mnot\u001b[39;49;00m\u001b[43m \u001b[49m\u001b[43mwriter\u001b[49m\u001b[43m.\u001b[49m\u001b[43m_supports_transparency\u001b[49m\u001b[43m(\u001b[49m\u001b[43m)\u001b[49m\u001b[43m:\u001b[49m\n\u001b[32m   1101\u001b[39m \u001b[43m        \u001b[49m\u001b[43mfacecolor\u001b[49m\u001b[43m \u001b[49m\u001b[43m=\u001b[49m\u001b[43m \u001b[49m\u001b[43msavefig_kwargs\u001b[49m\u001b[43m.\u001b[49m\u001b[43mget\u001b[49m\u001b[43m(\u001b[49m\u001b[33;43m'\u001b[39;49m\u001b[33;43mfacecolor\u001b[39;49m\u001b[33;43m'\u001b[39;49m\u001b[43m,\u001b[49m\n\u001b[32m   1102\u001b[39m \u001b[43m                                       \u001b[49m\u001b[43mmpl\u001b[49m\u001b[43m.\u001b[49m\u001b[43mrcParams\u001b[49m\u001b[43m[\u001b[49m\u001b[33;43m'\u001b[39;49m\u001b[33;43msavefig.facecolor\u001b[39;49m\u001b[33;43m'\u001b[39;49m\u001b[43m]\u001b[49m\u001b[43m)\u001b[49m\n",
      "\u001b[36mFile \u001b[39m\u001b[32m/opt/conda/envs/style/lib/python3.11/contextlib.py:158\u001b[39m, in \u001b[36m_GeneratorContextManager.__exit__\u001b[39m\u001b[34m(self, typ, value, traceback)\u001b[39m\n\u001b[32m    156\u001b[39m     value = typ()\n\u001b[32m    157\u001b[39m \u001b[38;5;28;01mtry\u001b[39;00m:\n\u001b[32m--> \u001b[39m\u001b[32m158\u001b[39m     \u001b[38;5;28mself\u001b[39m.gen.throw(typ, value, traceback)\n\u001b[32m    159\u001b[39m \u001b[38;5;28;01mexcept\u001b[39;00m \u001b[38;5;167;01mStopIteration\u001b[39;00m \u001b[38;5;28;01mas\u001b[39;00m exc:\n\u001b[32m    160\u001b[39m     \u001b[38;5;66;03m# Suppress StopIteration *unless* it's the same exception that\u001b[39;00m\n\u001b[32m    161\u001b[39m     \u001b[38;5;66;03m# was passed to throw().  This prevents a StopIteration\u001b[39;00m\n\u001b[32m    162\u001b[39m     \u001b[38;5;66;03m# raised inside the \"with\" statement from being suppressed.\u001b[39;00m\n\u001b[32m    163\u001b[39m     \u001b[38;5;28;01mreturn\u001b[39;00m exc \u001b[38;5;129;01mis\u001b[39;00m \u001b[38;5;129;01mnot\u001b[39;00m value\n",
      "\u001b[36mFile \u001b[39m\u001b[32m/opt/conda/envs/style/lib/python3.11/site-packages/matplotlib/animation.py:226\u001b[39m, in \u001b[36mAbstractMovieWriter.saving\u001b[39m\u001b[34m(self, fig, outfile, dpi, *args, **kwargs)\u001b[39m\n\u001b[32m    224\u001b[39m     \u001b[38;5;28;01myield\u001b[39;00m \u001b[38;5;28mself\u001b[39m\n\u001b[32m    225\u001b[39m \u001b[38;5;28;01mfinally\u001b[39;00m:\n\u001b[32m--> \u001b[39m\u001b[32m226\u001b[39m     \u001b[38;5;28;43mself\u001b[39;49m\u001b[43m.\u001b[49m\u001b[43mfinish\u001b[49m\u001b[43m(\u001b[49m\u001b[43m)\u001b[49m\n",
      "\u001b[36mFile \u001b[39m\u001b[32m/opt/conda/envs/style/lib/python3.11/site-packages/matplotlib/animation.py:341\u001b[39m, in \u001b[36mMovieWriter.finish\u001b[39m\u001b[34m(self)\u001b[39m\n\u001b[32m    337\u001b[39m     _log.log(\n\u001b[32m    338\u001b[39m         logging.WARNING \u001b[38;5;28;01mif\u001b[39;00m \u001b[38;5;28mself\u001b[39m._proc.returncode \u001b[38;5;28;01melse\u001b[39;00m logging.DEBUG,\n\u001b[32m    339\u001b[39m         \u001b[33m\"\u001b[39m\u001b[33mMovieWriter stderr:\u001b[39m\u001b[38;5;130;01m\\n\u001b[39;00m\u001b[38;5;132;01m%s\u001b[39;00m\u001b[33m\"\u001b[39m, err)\n\u001b[32m    340\u001b[39m \u001b[38;5;28;01mif\u001b[39;00m \u001b[38;5;28mself\u001b[39m._proc.returncode:\n\u001b[32m--> \u001b[39m\u001b[32m341\u001b[39m     \u001b[38;5;28;01mraise\u001b[39;00m subprocess.CalledProcessError(\n\u001b[32m    342\u001b[39m         \u001b[38;5;28mself\u001b[39m._proc.returncode, \u001b[38;5;28mself\u001b[39m._proc.args, out, err)\n",
      "\u001b[31mCalledProcessError\u001b[39m: Command '['ffmpeg', '-f', 'rawvideo', '-vcodec', 'rawvideo', '-s', '1000x1000', '-pix_fmt', 'rgba', '-framerate', '20', '-loglevel', 'error', '-i', 'pipe:', '-vcodec', 'h264', '-pix_fmt', 'yuv420p', '-y', 'video/9/reconstruct/031715_reconstructed.mp4']' returned non-zero exit status 255."
     ]
    }
   ],
   "source": [
    "from glob import glob\n",
    "\n",
    "device = 'cuda:0'\n",
    "opt = get_opt(\"checkpoints/t2m/t2m_denoiser_vpred_vaegelu/opt.txt\", device)\n",
    "\n",
    "input_folder = \"/source/junhyuk/motion-style/results/9/reconstruct\"\n",
    "output_folder = \"video/9/reconstruct\"\n",
    "os.makedirs(output_folder, exist_ok=True)\n",
    "\n",
    "npy_files = sorted(glob(os.path.join(input_folder, \"*_reconstructed.npy\")))\n",
    "\n",
    "for npy_file in npy_files:\n",
    "    filename = os.path.basename(npy_file)\n",
    "    basename = os.path.splitext(filename)[0]  # e.g., \"030075_reconstructed\"\n",
    "\n",
    "    data = np.load(npy_file)\n",
    "    joint = recover_from_ric(torch.from_numpy(data).float(), opt.joints_num).numpy()\n",
    "\n",
    "    save_path = os.path.join(output_folder, f\"{basename}.mp4\")\n",
    "    plot_3d_motion(save_path, opt.kinematic_chain, joint, title=basename, fps=20)\n",
    "\n",
    "    print(\"✅ Saved\", save_path)"
   ]
  },
  {
   "cell_type": "code",
   "execution_count": 3,
   "id": "b62aef4b",
   "metadata": {
    "collapsed": true,
    "jupyter": {
     "outputs_hidden": true
    },
    "scrolled": true
   },
   "outputs": [
    {
     "name": "stdout",
     "output_type": "stream",
     "text": [
      "Reading checkpoints/t2m/t2m_denoiser_vpred_vaegelu/opt.txt\n",
      "✅ Saved video/4/style/030075_Flapping.mp4\n",
      "✅ Saved video/4/style/030348_Flapping.mp4\n",
      "✅ Saved video/4/style/030417_Flapping.mp4\n",
      "✅ Saved video/4/style/030583_Flapping.mp4\n",
      "✅ Saved video/4/style/030597_Flapping.mp4\n",
      "✅ Saved video/4/style/030719_Flapping.mp4\n",
      "✅ Saved video/4/style/030891_Flapping.mp4\n",
      "✅ Saved video/4/style/031037_Flapping.mp4\n",
      "✅ Saved video/4/style/031053_Flapping.mp4\n",
      "✅ Saved video/4/style/031218_Flapping.mp4\n",
      "✅ Saved video/4/style/031263_Flapping.mp4\n",
      "✅ Saved video/4/style/031297_Flapping.mp4\n",
      "✅ Saved video/4/style/031393_Flapping.mp4\n",
      "✅ Saved video/4/style/031536_Flapping.mp4\n",
      "✅ Saved video/4/style/031679_Flapping.mp4\n",
      "✅ Saved video/4/style/032253_Flapping.mp4\n",
      "✅ Saved video/4/style/032339_Flapping.mp4\n",
      "✅ Saved video/4/style/032474_Flapping.mp4\n",
      "✅ Saved video/4/style/032479_Flapping.mp4\n",
      "✅ Saved video/4/style/032599_Flapping.mp4\n",
      "✅ Saved video/4/style/032786_Flapping.mp4\n",
      "✅ Saved video/4/style/033048_Flapping.mp4\n",
      "✅ Saved video/4/style/033076_Flapping.mp4\n",
      "✅ Saved video/4/style/033210_Flapping.mp4\n",
      "✅ Saved video/4/style/033240_Flapping.mp4\n",
      "✅ Saved video/4/style/033531_Flapping.mp4\n",
      "✅ Saved video/4/style/033607_Flapping.mp4\n",
      "✅ Saved video/4/style/033773_Flapping.mp4\n",
      "✅ Saved video/4/style/034008_Flapping.mp4\n",
      "✅ Saved video/4/style/034067_Flapping.mp4\n",
      "✅ Saved video/4/style/034179_Flapping.mp4\n",
      "✅ Saved video/4/style/034187_Flapping.mp4\n",
      "✅ Saved video/4/style/034188_Flapping.mp4\n",
      "✅ Saved video/4/style/034902_Flapping.mp4\n",
      "✅ Saved video/4/style/035617_Flapping.mp4\n",
      "✅ Saved video/4/style/036094_Flapping.mp4\n",
      "✅ Saved video/4/style/036299_Flapping.mp4\n",
      "✅ Saved video/4/style/036633_Flapping.mp4\n",
      "✅ Saved video/4/style/036669_Flapping.mp4\n",
      "✅ Saved video/4/style/036866_Flapping.mp4\n",
      "✅ Saved video/4/style/036956_Flapping.mp4\n",
      "✅ Saved video/4/style/037171_Flapping.mp4\n",
      "✅ Saved video/4/style/037258_Flapping.mp4\n",
      "✅ Saved video/4/style/037280_Flapping.mp4\n",
      "✅ Saved video/4/style/037509_Flapping.mp4\n",
      "✅ Saved video/4/style/037654_Flapping.mp4\n",
      "✅ Saved video/4/style/037861_Flapping.mp4\n",
      "✅ Saved video/4/style/038008_Flapping.mp4\n",
      "✅ Saved video/4/style/M030374_Flapping.mp4\n",
      "✅ Saved video/4/style/M030438_Flapping.mp4\n",
      "✅ Saved video/4/style/M030440_Flapping.mp4\n",
      "✅ Saved video/4/style/M030916_Flapping.mp4\n",
      "✅ Saved video/4/style/M031150_Flapping.mp4\n",
      "✅ Saved video/4/style/M031209_Flapping.mp4\n",
      "✅ Saved video/4/style/M031306_Flapping.mp4\n",
      "✅ Saved video/4/style/M031310_Flapping.mp4\n",
      "✅ Saved video/4/style/M031827_Flapping.mp4\n",
      "✅ Saved video/4/style/M031862_Flapping.mp4\n",
      "✅ Saved video/4/style/M031911_Flapping.mp4\n",
      "✅ Saved video/4/style/M031914_Flapping.mp4\n",
      "✅ Saved video/4/style/M031956_Flapping.mp4\n",
      "✅ Saved video/4/style/M032158_Flapping.mp4\n",
      "✅ Saved video/4/style/M032420_Flapping.mp4\n",
      "✅ Saved video/4/style/M032490_Flapping.mp4\n",
      "✅ Saved video/4/style/M032518_Flapping.mp4\n",
      "✅ Saved video/4/style/M032588_Flapping.mp4\n",
      "✅ Saved video/4/style/M032654_Flapping.mp4\n",
      "✅ Saved video/4/style/M032655_Flapping.mp4\n",
      "✅ Saved video/4/style/M032786_Flapping.mp4\n",
      "✅ Saved video/4/style/M032958_Flapping.mp4\n",
      "✅ Saved video/4/style/M032975_Flapping.mp4\n",
      "✅ Saved video/4/style/M032996_Flapping.mp4\n",
      "✅ Saved video/4/style/M033076_Flapping.mp4\n",
      "✅ Saved video/4/style/M033078_Flapping.mp4\n",
      "✅ Saved video/4/style/M033735_Flapping.mp4\n",
      "✅ Saved video/4/style/M033825_Flapping.mp4\n"
     ]
    },
    {
     "ename": "KeyboardInterrupt",
     "evalue": "",
     "output_type": "error",
     "traceback": [
      "\u001b[0;31m---------------------------------------------------------------------------\u001b[0m",
      "\u001b[0;31mKeyboardInterrupt\u001b[0m                         Traceback (most recent call last)",
      "Cell \u001b[0;32mIn[3], line 20\u001b[0m\n\u001b[1;32m     17\u001b[0m joint \u001b[38;5;241m=\u001b[39m recover_from_ric(torch\u001b[38;5;241m.\u001b[39mfrom_numpy(data)\u001b[38;5;241m.\u001b[39mfloat(), opt\u001b[38;5;241m.\u001b[39mjoints_num)\u001b[38;5;241m.\u001b[39mnumpy()\n\u001b[1;32m     19\u001b[0m save_path \u001b[38;5;241m=\u001b[39m os\u001b[38;5;241m.\u001b[39mpath\u001b[38;5;241m.\u001b[39mjoin(output_folder, \u001b[38;5;124mf\u001b[39m\u001b[38;5;124m\"\u001b[39m\u001b[38;5;132;01m{\u001b[39;00mbasename\u001b[38;5;132;01m}\u001b[39;00m\u001b[38;5;124m.mp4\u001b[39m\u001b[38;5;124m\"\u001b[39m)\n\u001b[0;32m---> 20\u001b[0m \u001b[43mplot_3d_motion\u001b[49m\u001b[43m(\u001b[49m\u001b[43msave_path\u001b[49m\u001b[43m,\u001b[49m\u001b[43m \u001b[49m\u001b[43mopt\u001b[49m\u001b[38;5;241;43m.\u001b[39;49m\u001b[43mkinematic_chain\u001b[49m\u001b[43m,\u001b[49m\u001b[43m \u001b[49m\u001b[43mjoint\u001b[49m\u001b[43m,\u001b[49m\u001b[43m \u001b[49m\u001b[43mtitle\u001b[49m\u001b[38;5;241;43m=\u001b[39;49m\u001b[43mbasename\u001b[49m\u001b[43m,\u001b[49m\u001b[43m \u001b[49m\u001b[43mfps\u001b[49m\u001b[38;5;241;43m=\u001b[39;49m\u001b[38;5;241;43m20\u001b[39;49m\u001b[43m)\u001b[49m\n\u001b[1;32m     22\u001b[0m \u001b[38;5;28mprint\u001b[39m(\u001b[38;5;124m\"\u001b[39m\u001b[38;5;124m✅ Saved\u001b[39m\u001b[38;5;124m\"\u001b[39m, save_path)\n",
      "File \u001b[0;32m/source/junhyuk/motion-style/salad/utils/plot_script.py:414\u001b[0m, in \u001b[0;36mplot_3d_motion\u001b[0;34m(save_path, kinematic_tree, joints, title, figsize, fps, radius)\u001b[0m\n\u001b[1;32m    411\u001b[0m ani \u001b[38;5;241m=\u001b[39m FuncAnimation(fig, update, frames\u001b[38;5;241m=\u001b[39mframe_number, interval\u001b[38;5;241m=\u001b[39m\u001b[38;5;241m1000\u001b[39m \u001b[38;5;241m/\u001b[39m fps, repeat\u001b[38;5;241m=\u001b[39m\u001b[38;5;28;01mFalse\u001b[39;00m)\n\u001b[1;32m    413\u001b[0m \u001b[38;5;66;03m# writer = FFMpegFileWriter(fps=fps)\u001b[39;00m\n\u001b[0;32m--> 414\u001b[0m \u001b[43mani\u001b[49m\u001b[38;5;241;43m.\u001b[39;49m\u001b[43msave\u001b[49m\u001b[43m(\u001b[49m\u001b[43msave_path\u001b[49m\u001b[43m,\u001b[49m\u001b[43m \u001b[49m\u001b[43mfps\u001b[49m\u001b[38;5;241;43m=\u001b[39;49m\u001b[43mfps\u001b[49m\u001b[43m)\u001b[49m\n\u001b[1;32m    415\u001b[0m plt\u001b[38;5;241m.\u001b[39mclose()\n",
      "File \u001b[0;32m/opt/conda/envs/salad/salad/lib/python3.9/site-packages/matplotlib/animation.py:1096\u001b[0m, in \u001b[0;36mAnimation.save\u001b[0;34m(self, filename, writer, fps, dpi, codec, bitrate, extra_args, metadata, extra_anim, savefig_kwargs, progress_callback)\u001b[0m\n\u001b[1;32m   1094\u001b[0m \u001b[38;5;28;01mif\u001b[39;00m \u001b[38;5;28misinstance\u001b[39m(writer, \u001b[38;5;28mstr\u001b[39m):\n\u001b[1;32m   1095\u001b[0m     \u001b[38;5;28;01mtry\u001b[39;00m:\n\u001b[0;32m-> 1096\u001b[0m         writer_cls \u001b[38;5;241m=\u001b[39m \u001b[43mwriters\u001b[49m\u001b[43m[\u001b[49m\u001b[43mwriter\u001b[49m\u001b[43m]\u001b[49m\n\u001b[1;32m   1097\u001b[0m     \u001b[38;5;28;01mexcept\u001b[39;00m \u001b[38;5;167;01mRuntimeError\u001b[39;00m:  \u001b[38;5;66;03m# Raised if not available.\u001b[39;00m\n\u001b[1;32m   1098\u001b[0m         writer_cls \u001b[38;5;241m=\u001b[39m PillowWriter  \u001b[38;5;66;03m# Always available.\u001b[39;00m\n",
      "File \u001b[0;32m/opt/conda/envs/salad/salad/lib/python3.9/site-packages/matplotlib/animation.py:164\u001b[0m, in \u001b[0;36mMovieWriterRegistry.__getitem__\u001b[0;34m(self, name)\u001b[0m\n\u001b[1;32m    162\u001b[0m \u001b[38;5;28;01mdef\u001b[39;00m\u001b[38;5;250m \u001b[39m\u001b[38;5;21m__getitem__\u001b[39m(\u001b[38;5;28mself\u001b[39m, name):\n\u001b[1;32m    163\u001b[0m \u001b[38;5;250m    \u001b[39m\u001b[38;5;124;03m\"\"\"Get an available writer class from its name.\"\"\"\u001b[39;00m\n\u001b[0;32m--> 164\u001b[0m     \u001b[38;5;28;01mif\u001b[39;00m \u001b[38;5;28;43mself\u001b[39;49m\u001b[38;5;241;43m.\u001b[39;49m\u001b[43mis_available\u001b[49m\u001b[43m(\u001b[49m\u001b[43mname\u001b[49m\u001b[43m)\u001b[49m:\n\u001b[1;32m    165\u001b[0m         \u001b[38;5;28;01mreturn\u001b[39;00m \u001b[38;5;28mself\u001b[39m\u001b[38;5;241m.\u001b[39m_registered[name]\n\u001b[1;32m    166\u001b[0m     \u001b[38;5;28;01mraise\u001b[39;00m \u001b[38;5;167;01mRuntimeError\u001b[39;00m(\u001b[38;5;124mf\u001b[39m\u001b[38;5;124m\"\u001b[39m\u001b[38;5;124mRequested MovieWriter (\u001b[39m\u001b[38;5;132;01m{\u001b[39;00mname\u001b[38;5;132;01m}\u001b[39;00m\u001b[38;5;124m) not available\u001b[39m\u001b[38;5;124m\"\u001b[39m)\n",
      "File \u001b[0;32m/opt/conda/envs/salad/salad/lib/python3.9/site-packages/matplotlib/animation.py:150\u001b[0m, in \u001b[0;36mMovieWriterRegistry.is_available\u001b[0;34m(self, name)\u001b[0m\n\u001b[1;32m    148\u001b[0m \u001b[38;5;28;01mexcept\u001b[39;00m \u001b[38;5;167;01mKeyError\u001b[39;00m:\n\u001b[1;32m    149\u001b[0m     \u001b[38;5;28;01mreturn\u001b[39;00m \u001b[38;5;28;01mFalse\u001b[39;00m\n\u001b[0;32m--> 150\u001b[0m \u001b[38;5;28;01mreturn\u001b[39;00m \u001b[38;5;28;43mcls\u001b[39;49m\u001b[38;5;241;43m.\u001b[39;49m\u001b[43misAvailable\u001b[49m\u001b[43m(\u001b[49m\u001b[43m)\u001b[49m\n",
      "File \u001b[0;32m/opt/conda/envs/salad/salad/lib/python3.9/site-packages/matplotlib/animation.py:606\u001b[0m, in \u001b[0;36mFFMpegBase.isAvailable\u001b[0;34m(cls)\u001b[0m\n\u001b[1;32m    600\u001b[0m \u001b[38;5;129m@classmethod\u001b[39m\n\u001b[1;32m    601\u001b[0m \u001b[38;5;28;01mdef\u001b[39;00m\u001b[38;5;250m \u001b[39m\u001b[38;5;21misAvailable\u001b[39m(\u001b[38;5;28mcls\u001b[39m):\n\u001b[1;32m    602\u001b[0m     \u001b[38;5;28;01mreturn\u001b[39;00m (\n\u001b[1;32m    603\u001b[0m         \u001b[38;5;28msuper\u001b[39m()\u001b[38;5;241m.\u001b[39misAvailable()\n\u001b[1;32m    604\u001b[0m         \u001b[38;5;66;03m# Ubuntu 12.04 ships a broken ffmpeg binary which we shouldn't use.\u001b[39;00m\n\u001b[1;32m    605\u001b[0m         \u001b[38;5;66;03m# NOTE: when removed, remove the same method in AVConvBase.\u001b[39;00m\n\u001b[0;32m--> 606\u001b[0m         \u001b[38;5;129;01mand\u001b[39;00m \u001b[38;5;124mb\u001b[39m\u001b[38;5;124m'\u001b[39m\u001b[38;5;124mLibAv\u001b[39m\u001b[38;5;124m'\u001b[39m \u001b[38;5;129;01mnot\u001b[39;00m \u001b[38;5;129;01min\u001b[39;00m \u001b[43msubprocess\u001b[49m\u001b[38;5;241;43m.\u001b[39;49m\u001b[43mrun\u001b[49m\u001b[43m(\u001b[49m\n\u001b[1;32m    607\u001b[0m \u001b[43m            \u001b[49m\u001b[43m[\u001b[49m\u001b[38;5;28;43mcls\u001b[39;49m\u001b[38;5;241;43m.\u001b[39;49m\u001b[43mbin_path\u001b[49m\u001b[43m(\u001b[49m\u001b[43m)\u001b[49m\u001b[43m]\u001b[49m\u001b[43m,\u001b[49m\u001b[43m \u001b[49m\u001b[43mcreationflags\u001b[49m\u001b[38;5;241;43m=\u001b[39;49m\u001b[43msubprocess_creation_flags\u001b[49m\u001b[43m,\u001b[49m\n\u001b[1;32m    608\u001b[0m \u001b[43m            \u001b[49m\u001b[43mstdin\u001b[49m\u001b[38;5;241;43m=\u001b[39;49m\u001b[43msubprocess\u001b[49m\u001b[38;5;241;43m.\u001b[39;49m\u001b[43mDEVNULL\u001b[49m\u001b[43m,\u001b[49m\u001b[43m \u001b[49m\u001b[43mstdout\u001b[49m\u001b[38;5;241;43m=\u001b[39;49m\u001b[43msubprocess\u001b[49m\u001b[38;5;241;43m.\u001b[39;49m\u001b[43mDEVNULL\u001b[49m\u001b[43m,\u001b[49m\n\u001b[1;32m    609\u001b[0m \u001b[43m            \u001b[49m\u001b[43mstderr\u001b[49m\u001b[38;5;241;43m=\u001b[39;49m\u001b[43msubprocess\u001b[49m\u001b[38;5;241;43m.\u001b[39;49m\u001b[43mPIPE\u001b[49m\u001b[43m)\u001b[49m\u001b[38;5;241m.\u001b[39mstderr)\n",
      "File \u001b[0;32m/opt/conda/envs/salad/salad/lib/python3.9/subprocess.py:507\u001b[0m, in \u001b[0;36mrun\u001b[0;34m(input, capture_output, timeout, check, *popenargs, **kwargs)\u001b[0m\n\u001b[1;32m    505\u001b[0m \u001b[38;5;28;01mwith\u001b[39;00m Popen(\u001b[38;5;241m*\u001b[39mpopenargs, \u001b[38;5;241m*\u001b[39m\u001b[38;5;241m*\u001b[39mkwargs) \u001b[38;5;28;01mas\u001b[39;00m process:\n\u001b[1;32m    506\u001b[0m     \u001b[38;5;28;01mtry\u001b[39;00m:\n\u001b[0;32m--> 507\u001b[0m         stdout, stderr \u001b[38;5;241m=\u001b[39m \u001b[43mprocess\u001b[49m\u001b[38;5;241;43m.\u001b[39;49m\u001b[43mcommunicate\u001b[49m\u001b[43m(\u001b[49m\u001b[38;5;28;43minput\u001b[39;49m\u001b[43m,\u001b[49m\u001b[43m \u001b[49m\u001b[43mtimeout\u001b[49m\u001b[38;5;241;43m=\u001b[39;49m\u001b[43mtimeout\u001b[49m\u001b[43m)\u001b[49m\n\u001b[1;32m    508\u001b[0m     \u001b[38;5;28;01mexcept\u001b[39;00m TimeoutExpired \u001b[38;5;28;01mas\u001b[39;00m exc:\n\u001b[1;32m    509\u001b[0m         process\u001b[38;5;241m.\u001b[39mkill()\n",
      "File \u001b[0;32m/opt/conda/envs/salad/salad/lib/python3.9/subprocess.py:1124\u001b[0m, in \u001b[0;36mPopen.communicate\u001b[0;34m(self, input, timeout)\u001b[0m\n\u001b[1;32m   1122\u001b[0m     \u001b[38;5;28mself\u001b[39m\u001b[38;5;241m.\u001b[39mstdout\u001b[38;5;241m.\u001b[39mclose()\n\u001b[1;32m   1123\u001b[0m \u001b[38;5;28;01melif\u001b[39;00m \u001b[38;5;28mself\u001b[39m\u001b[38;5;241m.\u001b[39mstderr:\n\u001b[0;32m-> 1124\u001b[0m     stderr \u001b[38;5;241m=\u001b[39m \u001b[38;5;28;43mself\u001b[39;49m\u001b[38;5;241;43m.\u001b[39;49m\u001b[43mstderr\u001b[49m\u001b[38;5;241;43m.\u001b[39;49m\u001b[43mread\u001b[49m\u001b[43m(\u001b[49m\u001b[43m)\u001b[49m\n\u001b[1;32m   1125\u001b[0m     \u001b[38;5;28mself\u001b[39m\u001b[38;5;241m.\u001b[39mstderr\u001b[38;5;241m.\u001b[39mclose()\n\u001b[1;32m   1126\u001b[0m \u001b[38;5;28mself\u001b[39m\u001b[38;5;241m.\u001b[39mwait()\n",
      "\u001b[0;31mKeyboardInterrupt\u001b[0m: "
     ]
    }
   ],
   "source": [
    "from glob import glob\n",
    "\n",
    "device = 'cuda:0'\n",
    "opt = get_opt(\"checkpoints/t2m/t2m_denoiser_vpred_vaegelu/opt.txt\", device)\n",
    "\n",
    "input_folder = \"/source/junhyuk/motion-style/results/4/style\"\n",
    "output_folder = \"video/4/style\"\n",
    "os.makedirs(output_folder, exist_ok=True)\n",
    "\n",
    "npy_files = sorted(glob(os.path.join(input_folder, \"*.npy\")))\n",
    "\n",
    "for npy_file in npy_files:\n",
    "    filename = os.path.basename(npy_file)\n",
    "    basename = os.path.splitext(filename)[0]  # e.g., \"030075_reconstructed\"\n",
    "\n",
    "    data = np.load(npy_file)\n",
    "    joint = recover_from_ric(torch.from_numpy(data).float(), opt.joints_num).numpy()\n",
    "\n",
    "    save_path = os.path.join(output_folder, f\"{basename}.mp4\")\n",
    "    plot_3d_motion(save_path, opt.kinematic_chain, joint, title=basename, fps=20)\n",
    "\n",
    "    print(\"✅ Saved\", save_path)"
   ]
  },
  {
   "cell_type": "code",
   "execution_count": null,
   "id": "58b7c3bd",
   "metadata": {},
   "outputs": [
    {
     "name": "stdout",
     "output_type": "stream",
     "text": [
      "Reading checkpoints/t2m/t2m_denoiser_vpred_vaegelu/opt.txt\n",
      "Reading checkpoints/t2m/t2m_vae_gelu/opt.txt\n",
      "Loading VAE Model t2m_vae_gelu\n",
      "Loading Denoiser Model t2m_denoiser_vpred_vaegelu\n"
     ]
    },
    {
     "name": "stderr",
     "output_type": "stream",
     "text": [
      "0it [00:00, ?it/s]\n"
     ]
    },
    {
     "name": "stdout",
     "output_type": "stream",
     "text": [
      "Loaded CLIP text encoder version ViT-B/32\n"
     ]
    }
   ],
   "source": [
    "denoiser_name = \"t2m_denoiser_vpred_vaegelu\"\n",
    "dataset_name = \"t2m\"\n",
    "model = Text2Motion(denoiser_name, dataset_name)\n",
    "device = 'cuda:0'"
   ]
  },
  {
   "cell_type": "code",
   "execution_count": null,
   "id": "068d6bc8",
   "metadata": {},
   "outputs": [
    {
     "name": "stdout",
     "output_type": "stream",
     "text": [
      "Reading ./checkpoints/t2m/Comp_v6_KLD005/opt.txt\n"
     ]
    }
   ],
   "source": [
    "data_opt = get_opt(model.opt.dataset_opt_path, torch.device('cuda'))\n",
    "mean = np.load(pjoin(data_opt.meta_dir, 'mean.npy'))\n",
    "std = np.load(pjoin(data_opt.meta_dir, 'std.npy'))"
   ]
  },
  {
   "cell_type": "code",
   "execution_count": null,
   "id": "a62ee4a0",
   "metadata": {},
   "outputs": [
    {
     "ename": "NameError",
     "evalue": "name 'model' is not defined",
     "output_type": "error",
     "traceback": [
      "\u001b[0;31m---------------------------------------------------------------------------\u001b[0m",
      "\u001b[0;31mNameError\u001b[0m                                 Traceback (most recent call last)",
      "Cell \u001b[0;32mIn[3], line 1\u001b[0m\n\u001b[0;32m----> 1\u001b[0m opt \u001b[38;5;241m=\u001b[39m \u001b[43mmodel\u001b[49m\u001b[38;5;241m.\u001b[39mvae_opt\n\u001b[1;32m      2\u001b[0m data \u001b[38;5;241m=\u001b[39m MotionDataset(opt, mean, std, \u001b[38;5;124m'\u001b[39m\u001b[38;5;124m./dataset/100style/100style.txt\u001b[39m\u001b[38;5;124m'\u001b[39m)\n\u001b[1;32m      3\u001b[0m dataloader \u001b[38;5;241m=\u001b[39m DataLoader(data, batch_size\u001b[38;5;241m=\u001b[39m\u001b[38;5;241m1\u001b[39m, drop_last\u001b[38;5;241m=\u001b[39m\u001b[38;5;28;01mTrue\u001b[39;00m, num_workers\u001b[38;5;241m=\u001b[39mopt\u001b[38;5;241m.\u001b[39mnum_workers, shuffle\u001b[38;5;241m=\u001b[39m\u001b[38;5;28;01mFalse\u001b[39;00m, pin_memory\u001b[38;5;241m=\u001b[39m\u001b[38;5;28;01mTrue\u001b[39;00m)\n",
      "\u001b[0;31mNameError\u001b[0m: name 'model' is not defined"
     ]
    }
   ],
   "source": [
    "opt = model.vae_opt\n",
    "data = MotionDataset(opt, mean, std, './dataset/100style/100style.txt')\n",
    "dataloader = DataLoader(data, batch_size=1, drop_last=True, num_workers=opt.num_workers, shuffle=False, pin_memory=True)"
   ]
  },
  {
   "cell_type": "code",
   "execution_count": null,
   "id": "76afc485",
   "metadata": {},
   "outputs": [],
   "source": [
    "motions = []\n",
    "for i, batch in enumerate(dataloader):\n",
    "    batch  = batch.to(device, dtype=torch.float32)\n",
    "    z, _   = model.vae.encode(batch)\n",
    "    motion = model.vae.decode(z)\n",
    "    motions.append(motion)"
   ]
  },
  {
   "cell_type": "code",
   "execution_count": null,
   "id": "64fc58d3",
   "metadata": {},
   "outputs": [
    {
     "name": "stdout",
     "output_type": "stream",
     "text": [
      "(260, 22, 3)\n"
     ]
    }
   ],
   "source": [
    "motion_id = open(f'./dataset/100style/100style.txt').readlines()[0].strip()\n",
    "src_motion = motions[0].detach().cpu().numpy() * std + mean\n",
    "plot_t2m(src_motion[0], \"recon\", \"src\")\n",
    "plot_og(f'./dataset/100style/new_joints/{motion_id}.npy', \"og\", \"og\")"
   ]
  },
  {
   "cell_type": "code",
   "execution_count": null,
   "id": "2a0f04d4",
   "metadata": {},
   "outputs": [
    {
     "name": "stdout",
     "output_type": "stream",
     "text": [
      "Moviepy - Building video reconstruction_result/final.mp4.\n",
      "Moviepy - Writing video reconstruction_result/final.mp4\n",
      "\n"
     ]
    },
    {
     "name": "stderr",
     "output_type": "stream",
     "text": [
      "                                                              \r"
     ]
    },
    {
     "name": "stdout",
     "output_type": "stream",
     "text": [
      "Moviepy - Done !\n",
      "Moviepy - video ready reconstruction_result/final.mp4\n"
     ]
    },
    {
     "data": {
      "text/html": [
       "<video src=\"reconstruction_result/final.mp4\" controls  width=\"800\"  height=\"400\">\n",
       "      Your browser does not support the <code>video</code> element.\n",
       "    </video>"
      ],
      "text/plain": [
       "<IPython.core.display.Video object>"
      ]
     },
     "execution_count": 105,
     "metadata": {},
     "output_type": "execute_result"
    }
   ],
   "source": [
    "from moviepy.editor import VideoFileClip, clips_array\n",
    "og_video = VideoFileClip(pjoin(\"delete\", \"1.mp4\"))\n",
    "src_video = VideoFileClip(pjoin(\"delete\", \"2.mp4\"))\n",
    "final_video = clips_array([[og_video, src_video]])\n",
    "final_video.write_videofile(pjoin(\"reconstruction_result\", \"final.mp4\"))\n",
    "\n",
    "from IPython.display import Video\n",
    "Video(\"reconstruction_result/final.mp4\", width=800, height=400)"
   ]
  },
  {
   "cell_type": "code",
   "execution_count": null,
   "id": "82871833",
   "metadata": {},
   "outputs": [],
   "source": [
    "joint1 = np.load('./reconstruction_result/src_pos.npy');"
   ]
  },
  {
   "cell_type": "code",
   "execution_count": null,
   "id": "ed1650fb",
   "metadata": {},
   "outputs": [],
   "source": [
    "joint2 = np.load(f'./dataset/100style/new_joints/{motion_id}.npy')[:260]"
   ]
  }
 ],
 "metadata": {
  "kernelspec": {
   "display_name": "style",
   "language": "python",
   "name": "python3"
  },
  "language_info": {
   "codemirror_mode": {
    "name": "ipython",
    "version": 3
   },
   "file_extension": ".py",
   "mimetype": "text/x-python",
   "name": "python",
   "nbconvert_exporter": "python",
   "pygments_lexer": "ipython3",
   "version": "3.11.9"
  }
 },
 "nbformat": 4,
 "nbformat_minor": 5
}
