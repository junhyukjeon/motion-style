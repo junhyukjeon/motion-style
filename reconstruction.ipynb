{
 "cells": [
  {
   "cell_type": "code",
   "execution_count": 2,
   "id": "9577bb03",
   "metadata": {},
   "outputs": [
    {
     "name": "stderr",
     "output_type": "stream",
     "text": [
      "/opt/conda/envs/salad/salad/lib/python3.9/site-packages/tqdm/auto.py:21: TqdmWarning: IProgress not found. Please update jupyter and ipywidgets. See https://ipywidgets.readthedocs.io/en/stable/user_install.html\n",
      "  from .autonotebook import tqdm as notebook_tqdm\n"
     ]
    }
   ],
   "source": [
    "# from salad.t2m import Text2Motion\n",
    "from salad.utils.get_opt import get_opt\n",
    "\n",
    "from salad.utils.fixseed import fixseed\n",
    "\n",
    "import torch\n",
    "import numpy as np\n",
    "from os.path import join as pjoin\n",
    "\n",
    "import os\n",
    "from os.path import join as pjoin\n",
    "import torch\n",
    "import numpy as np\n",
    "from utils.motion import recover_from_ric\n",
    "from salad.utils.plot_script import plot_3d_motion\n",
    "from salad.utils.get_opt import get_opt\n",
    "\n",
    "from salad.data.t2m_dataset import MotionDataset\n",
    "from torch.utils.data import DataLoader\n",
    "\n",
    "def plot_t2m(data, text, filename):\n",
    "    os.makedirs(\"reconstruction_result\", exist_ok=True)\n",
    "    data = data\n",
    "    joint = recover_from_ric(torch.from_numpy(data).float(), opt.joints_num).numpy()\n",
    "    save_path = pjoin(\"reconstruction_result\", f\"{filename}.mp4\")\n",
    "    plot_3d_motion(save_path, opt.kinematic_chain, joint, title=text, fps=20)\n",
    "\n",
    "    np.save(pjoin(\"reconstruction_result\", f\"{filename}_pos.npy\"), joint)\n",
    "    np.save(pjoin(\"reconstruction_result\", f\"{filename}_feats.npy\"), data)\n",
    "\n",
    "def plot_og(motion_path, text, filename):\n",
    "    os.makedirs(\"og_result\", exist_ok=True)\n",
    "    joint = np.load(motion_path)[:260]\n",
    "    print(joint.shape)\n",
    "    save_path = pjoin(\"og_result\", f\"{filename}.mp4\")\n",
    "    plot_3d_motion(save_path, opt.kinematic_chain, joint, title=text, fps=20)\n",
    "    np.save(pjoin(\"og_result\", f\"{filename}_pos.npy\"), joint)\n",
    "    # np.save(pjoin(\"og_result\", f\"{filename}_feats.npy\"), )"
   ]
  },
  {
   "cell_type": "code",
   "execution_count": 15,
   "id": "7f82cf4c",
   "metadata": {
    "collapsed": true,
    "jupyter": {
     "outputs_hidden": true
    }
   },
   "outputs": [
    {
     "name": "stdout",
     "output_type": "stream",
     "text": [
      "Reading checkpoints/t2m/t2m_denoiser_vpred_vaegelu/opt.txt\n"
     ]
    },
    {
     "ename": "CalledProcessError",
     "evalue": "Command '['ffmpeg', '-f', 'rawvideo', '-vcodec', 'rawvideo', '-s', '1000x1000', '-pix_fmt', 'rgba', '-r', '20', '-loglevel', 'error', '-i', 'pipe:', '-vcodec', 'h264', '-pix_fmt', 'yuv420p', '-y', 'video/4/reconstruct/030075_reconstructed.mp4']' returned non-zero exit status 255.",
     "output_type": "error",
     "traceback": [
      "\u001b[0;31m---------------------------------------------------------------------------\u001b[0m",
      "\u001b[0;31mKeyboardInterrupt\u001b[0m                         Traceback (most recent call last)",
      "File \u001b[0;32m/opt/conda/envs/salad/salad/lib/python3.9/site-packages/matplotlib/animation.py:251\u001b[0m, in \u001b[0;36mAbstractMovieWriter.saving\u001b[0;34m(self, fig, outfile, dpi, *args, **kwargs)\u001b[0m\n\u001b[1;32m    250\u001b[0m \u001b[38;5;28;01mtry\u001b[39;00m:\n\u001b[0;32m--> 251\u001b[0m     \u001b[38;5;28;01myield\u001b[39;00m \u001b[38;5;28mself\u001b[39m\n\u001b[1;32m    252\u001b[0m \u001b[38;5;28;01mfinally\u001b[39;00m:\n",
      "File \u001b[0;32m/opt/conda/envs/salad/salad/lib/python3.9/site-packages/matplotlib/animation.py:1141\u001b[0m, in \u001b[0;36mAnimation.save\u001b[0;34m(self, filename, writer, fps, dpi, codec, bitrate, extra_args, metadata, extra_anim, savefig_kwargs, progress_callback)\u001b[0m\n\u001b[1;32m   1139\u001b[0m \u001b[38;5;28;01mfor\u001b[39;00m anim, d \u001b[38;5;129;01min\u001b[39;00m \u001b[38;5;28mzip\u001b[39m(all_anim, data):\n\u001b[1;32m   1140\u001b[0m     \u001b[38;5;66;03m# TODO: See if turning off blit is really necessary\u001b[39;00m\n\u001b[0;32m-> 1141\u001b[0m     \u001b[43manim\u001b[49m\u001b[38;5;241;43m.\u001b[39;49m\u001b[43m_draw_next_frame\u001b[49m\u001b[43m(\u001b[49m\u001b[43md\u001b[49m\u001b[43m,\u001b[49m\u001b[43m \u001b[49m\u001b[43mblit\u001b[49m\u001b[38;5;241;43m=\u001b[39;49m\u001b[38;5;28;43;01mFalse\u001b[39;49;00m\u001b[43m)\u001b[49m\n\u001b[1;32m   1142\u001b[0m     \u001b[38;5;28;01mif\u001b[39;00m progress_callback \u001b[38;5;129;01mis\u001b[39;00m \u001b[38;5;129;01mnot\u001b[39;00m \u001b[38;5;28;01mNone\u001b[39;00m:\n",
      "File \u001b[0;32m/opt/conda/envs/salad/salad/lib/python3.9/site-packages/matplotlib/animation.py:1176\u001b[0m, in \u001b[0;36mAnimation._draw_next_frame\u001b[0;34m(self, framedata, blit)\u001b[0m\n\u001b[1;32m   1175\u001b[0m \u001b[38;5;28mself\u001b[39m\u001b[38;5;241m.\u001b[39m_pre_draw(framedata, blit)\n\u001b[0;32m-> 1176\u001b[0m \u001b[38;5;28;43mself\u001b[39;49m\u001b[38;5;241;43m.\u001b[39;49m\u001b[43m_draw_frame\u001b[49m\u001b[43m(\u001b[49m\u001b[43mframedata\u001b[49m\u001b[43m)\u001b[49m\n\u001b[1;32m   1177\u001b[0m \u001b[38;5;28mself\u001b[39m\u001b[38;5;241m.\u001b[39m_post_draw(framedata, blit)\n",
      "File \u001b[0;32m/opt/conda/envs/salad/salad/lib/python3.9/site-packages/matplotlib/animation.py:1726\u001b[0m, in \u001b[0;36mFuncAnimation._draw_frame\u001b[0;34m(self, framedata)\u001b[0m\n\u001b[1;32m   1724\u001b[0m \u001b[38;5;66;03m# Call the func with framedata and args. If blitting is desired,\u001b[39;00m\n\u001b[1;32m   1725\u001b[0m \u001b[38;5;66;03m# func needs to return a sequence of any artists that were modified.\u001b[39;00m\n\u001b[0;32m-> 1726\u001b[0m \u001b[38;5;28mself\u001b[39m\u001b[38;5;241m.\u001b[39m_drawn_artists \u001b[38;5;241m=\u001b[39m \u001b[38;5;28;43mself\u001b[39;49m\u001b[38;5;241;43m.\u001b[39;49m\u001b[43m_func\u001b[49m\u001b[43m(\u001b[49m\u001b[43mframedata\u001b[49m\u001b[43m,\u001b[49m\u001b[43m \u001b[49m\u001b[38;5;241;43m*\u001b[39;49m\u001b[38;5;28;43mself\u001b[39;49m\u001b[38;5;241;43m.\u001b[39;49m\u001b[43m_args\u001b[49m\u001b[43m)\u001b[49m\n\u001b[1;32m   1727\u001b[0m \u001b[38;5;28;01mif\u001b[39;00m \u001b[38;5;28mself\u001b[39m\u001b[38;5;241m.\u001b[39m_blit:\n",
      "File \u001b[0;32m/source/junhyuk/motion-style/salad/utils/plot_script.py:409\u001b[0m, in \u001b[0;36mplot_3d_motion.<locals>.update\u001b[0;34m(index)\u001b[0m\n\u001b[1;32m    408\u001b[0m ax\u001b[38;5;241m.\u001b[39mset_yticklabels([])\n\u001b[0;32m--> 409\u001b[0m \u001b[43max\u001b[49m\u001b[38;5;241;43m.\u001b[39;49m\u001b[43mset_zticklabels\u001b[49m\u001b[43m(\u001b[49m\u001b[43m[\u001b[49m\u001b[43m]\u001b[49m\u001b[43m)\u001b[49m\n",
      "File \u001b[0;32m/opt/conda/envs/salad/salad/lib/python3.9/site-packages/matplotlib/axes/_base.py:63\u001b[0m, in \u001b[0;36m_axis_method_wrapper.__set_name__.<locals>.wrapper\u001b[0;34m(self, *args, **kwargs)\u001b[0m\n\u001b[1;32m     62\u001b[0m \u001b[38;5;28;01mdef\u001b[39;00m\u001b[38;5;250m \u001b[39m\u001b[38;5;21mwrapper\u001b[39m(\u001b[38;5;28mself\u001b[39m, \u001b[38;5;241m*\u001b[39margs, \u001b[38;5;241m*\u001b[39m\u001b[38;5;241m*\u001b[39mkwargs):\n\u001b[0;32m---> 63\u001b[0m     \u001b[38;5;28;01mreturn\u001b[39;00m \u001b[43mget_method\u001b[49m\u001b[43m(\u001b[49m\u001b[38;5;28;43mself\u001b[39;49m\u001b[43m)\u001b[49m\u001b[43m(\u001b[49m\u001b[38;5;241;43m*\u001b[39;49m\u001b[43margs\u001b[49m\u001b[43m,\u001b[49m\u001b[43m \u001b[49m\u001b[38;5;241;43m*\u001b[39;49m\u001b[38;5;241;43m*\u001b[39;49m\u001b[43mkwargs\u001b[49m\u001b[43m)\u001b[49m\n",
      "File \u001b[0;32m/opt/conda/envs/salad/salad/lib/python3.9/site-packages/matplotlib/cbook/deprecation.py:451\u001b[0m, in \u001b[0;36m_make_keyword_only.<locals>.wrapper\u001b[0;34m(*args, **kwargs)\u001b[0m\n\u001b[1;32m    446\u001b[0m     warn_deprecated(\n\u001b[1;32m    447\u001b[0m         since, message\u001b[38;5;241m=\u001b[39m\u001b[38;5;124m\"\u001b[39m\u001b[38;5;124mPassing the \u001b[39m\u001b[38;5;132;01m%(name)s\u001b[39;00m\u001b[38;5;124m \u001b[39m\u001b[38;5;132;01m%(obj_type)s\u001b[39;00m\u001b[38;5;124m \u001b[39m\u001b[38;5;124m\"\u001b[39m\n\u001b[1;32m    448\u001b[0m         \u001b[38;5;124m\"\u001b[39m\u001b[38;5;124mpositionally is deprecated since Matplotlib \u001b[39m\u001b[38;5;132;01m%(since)s\u001b[39;00m\u001b[38;5;124m; the \u001b[39m\u001b[38;5;124m\"\u001b[39m\n\u001b[1;32m    449\u001b[0m         \u001b[38;5;124m\"\u001b[39m\u001b[38;5;124mparameter will become keyword-only \u001b[39m\u001b[38;5;132;01m%(removal)s\u001b[39;00m\u001b[38;5;124m.\u001b[39m\u001b[38;5;124m\"\u001b[39m,\n\u001b[1;32m    450\u001b[0m         name\u001b[38;5;241m=\u001b[39mname, obj_type\u001b[38;5;241m=\u001b[39m\u001b[38;5;124mf\u001b[39m\u001b[38;5;124m\"\u001b[39m\u001b[38;5;124mparameter of \u001b[39m\u001b[38;5;132;01m{\u001b[39;00mfunc\u001b[38;5;241m.\u001b[39m\u001b[38;5;18m__name__\u001b[39m\u001b[38;5;132;01m}\u001b[39;00m\u001b[38;5;124m()\u001b[39m\u001b[38;5;124m\"\u001b[39m)\n\u001b[0;32m--> 451\u001b[0m \u001b[38;5;28;01mreturn\u001b[39;00m \u001b[43mfunc\u001b[49m\u001b[43m(\u001b[49m\u001b[38;5;241;43m*\u001b[39;49m\u001b[43margs\u001b[49m\u001b[43m,\u001b[49m\u001b[43m \u001b[49m\u001b[38;5;241;43m*\u001b[39;49m\u001b[38;5;241;43m*\u001b[39;49m\u001b[43mkwargs\u001b[49m\u001b[43m)\u001b[49m\n",
      "File \u001b[0;32m/opt/conda/envs/salad/salad/lib/python3.9/site-packages/matplotlib/axis.py:1793\u001b[0m, in \u001b[0;36mAxis._set_ticklabels\u001b[0;34m(self, labels, fontdict, minor, **kwargs)\u001b[0m\n\u001b[1;32m   1792\u001b[0m     kwargs\u001b[38;5;241m.\u001b[39mupdate(fontdict)\n\u001b[0;32m-> 1793\u001b[0m \u001b[38;5;28;01mreturn\u001b[39;00m \u001b[38;5;28;43mself\u001b[39;49m\u001b[38;5;241;43m.\u001b[39;49m\u001b[43mset_ticklabels\u001b[49m\u001b[43m(\u001b[49m\u001b[43mlabels\u001b[49m\u001b[43m,\u001b[49m\u001b[43m \u001b[49m\u001b[43mminor\u001b[49m\u001b[38;5;241;43m=\u001b[39;49m\u001b[43mminor\u001b[49m\u001b[43m,\u001b[49m\u001b[43m \u001b[49m\u001b[38;5;241;43m*\u001b[39;49m\u001b[38;5;241;43m*\u001b[39;49m\u001b[43mkwargs\u001b[49m\u001b[43m)\u001b[49m\n",
      "File \u001b[0;32m/opt/conda/envs/salad/salad/lib/python3.9/site-packages/matplotlib/axis.py:1736\u001b[0m, in \u001b[0;36mAxis.set_ticklabels\u001b[0;34m(self, ticklabels, minor, **kwargs)\u001b[0m\n\u001b[1;32m   1735\u001b[0m \u001b[38;5;28;01mfor\u001b[39;00m pos, (loc, tick) \u001b[38;5;129;01min\u001b[39;00m \u001b[38;5;28menumerate\u001b[39m(\u001b[38;5;28mzip\u001b[39m(locs, ticks)):\n\u001b[0;32m-> 1736\u001b[0m     \u001b[43mtick\u001b[49m\u001b[38;5;241;43m.\u001b[39;49m\u001b[43mupdate_position\u001b[49m\u001b[43m(\u001b[49m\u001b[43mloc\u001b[49m\u001b[43m)\u001b[49m\n\u001b[1;32m   1737\u001b[0m     tick_label \u001b[38;5;241m=\u001b[39m formatter(loc, pos)\n",
      "File \u001b[0;32m/opt/conda/envs/salad/salad/lib/python3.9/site-packages/matplotlib/axis.py:472\u001b[0m, in \u001b[0;36mXTick.update_position\u001b[0;34m(self, loc)\u001b[0m\n\u001b[1;32m    471\u001b[0m \u001b[38;5;28mself\u001b[39m\u001b[38;5;241m.\u001b[39mgridline\u001b[38;5;241m.\u001b[39mset_xdata((loc,))\n\u001b[0;32m--> 472\u001b[0m \u001b[38;5;28;43mself\u001b[39;49m\u001b[38;5;241;43m.\u001b[39;49m\u001b[43mlabel1\u001b[49m\u001b[38;5;241;43m.\u001b[39;49m\u001b[43mset_x\u001b[49m\u001b[43m(\u001b[49m\u001b[43mloc\u001b[49m\u001b[43m)\u001b[49m\n\u001b[1;32m    473\u001b[0m \u001b[38;5;28mself\u001b[39m\u001b[38;5;241m.\u001b[39mlabel2\u001b[38;5;241m.\u001b[39mset_x(loc)\n",
      "File \u001b[0;32m/opt/conda/envs/salad/salad/lib/python3.9/site-packages/matplotlib/text.py:1109\u001b[0m, in \u001b[0;36mText.set_x\u001b[0;34m(self, x)\u001b[0m\n\u001b[1;32m   1108\u001b[0m \u001b[38;5;28mself\u001b[39m\u001b[38;5;241m.\u001b[39m_x \u001b[38;5;241m=\u001b[39m x\n\u001b[0;32m-> 1109\u001b[0m \u001b[38;5;28;43mself\u001b[39;49m\u001b[38;5;241;43m.\u001b[39;49m\u001b[43mstale\u001b[49m \u001b[38;5;241m=\u001b[39m \u001b[38;5;28;01mTrue\u001b[39;00m\n",
      "File \u001b[0;32m/opt/conda/envs/salad/salad/lib/python3.9/site-packages/matplotlib/artist.py:220\u001b[0m, in \u001b[0;36mArtist.stale\u001b[0;34m(self, val)\u001b[0m\n\u001b[1;32m    217\u001b[0m \u001b[38;5;66;03m# if the artist is animated it does not take normal part in the\u001b[39;00m\n\u001b[1;32m    218\u001b[0m \u001b[38;5;66;03m# draw stack and is not expected to be drawn as part of the normal\u001b[39;00m\n\u001b[1;32m    219\u001b[0m \u001b[38;5;66;03m# draw loop (when not saving) so do not propagate this change\u001b[39;00m\n\u001b[0;32m--> 220\u001b[0m \u001b[38;5;28;01mif\u001b[39;00m \u001b[38;5;28;43mself\u001b[39;49m\u001b[38;5;241;43m.\u001b[39;49m\u001b[43mget_animated\u001b[49m():\n\u001b[1;32m    221\u001b[0m     \u001b[38;5;28;01mreturn\u001b[39;00m\n",
      "\u001b[0;31mKeyboardInterrupt\u001b[0m: ",
      "\nDuring handling of the above exception, another exception occurred:\n",
      "\u001b[0;31mCalledProcessError\u001b[0m                        Traceback (most recent call last)",
      "Cell \u001b[0;32mIn[15], line 20\u001b[0m\n\u001b[1;32m     17\u001b[0m joint \u001b[38;5;241m=\u001b[39m recover_from_ric(torch\u001b[38;5;241m.\u001b[39mfrom_numpy(data)\u001b[38;5;241m.\u001b[39mfloat(), opt\u001b[38;5;241m.\u001b[39mjoints_num)\u001b[38;5;241m.\u001b[39mnumpy()\n\u001b[1;32m     19\u001b[0m save_path \u001b[38;5;241m=\u001b[39m os\u001b[38;5;241m.\u001b[39mpath\u001b[38;5;241m.\u001b[39mjoin(output_folder, \u001b[38;5;124mf\u001b[39m\u001b[38;5;124m\"\u001b[39m\u001b[38;5;132;01m{\u001b[39;00mbasename\u001b[38;5;132;01m}\u001b[39;00m\u001b[38;5;124m.mp4\u001b[39m\u001b[38;5;124m\"\u001b[39m)\n\u001b[0;32m---> 20\u001b[0m \u001b[43mplot_3d_motion\u001b[49m\u001b[43m(\u001b[49m\u001b[43msave_path\u001b[49m\u001b[43m,\u001b[49m\u001b[43m \u001b[49m\u001b[43mopt\u001b[49m\u001b[38;5;241;43m.\u001b[39;49m\u001b[43mkinematic_chain\u001b[49m\u001b[43m,\u001b[49m\u001b[43m \u001b[49m\u001b[43mjoint\u001b[49m\u001b[43m,\u001b[49m\u001b[43m \u001b[49m\u001b[43mtitle\u001b[49m\u001b[38;5;241;43m=\u001b[39;49m\u001b[43mbasename\u001b[49m\u001b[43m,\u001b[49m\u001b[43m \u001b[49m\u001b[43mfps\u001b[49m\u001b[38;5;241;43m=\u001b[39;49m\u001b[38;5;241;43m20\u001b[39;49m\u001b[43m)\u001b[49m\n\u001b[1;32m     22\u001b[0m \u001b[38;5;28mprint\u001b[39m(\u001b[38;5;124m\"\u001b[39m\u001b[38;5;124m✅ Saved\u001b[39m\u001b[38;5;124m\"\u001b[39m, save_path)\n",
      "File \u001b[0;32m/source/junhyuk/motion-style/salad/utils/plot_script.py:414\u001b[0m, in \u001b[0;36mplot_3d_motion\u001b[0;34m(save_path, kinematic_tree, joints, title, figsize, fps, radius)\u001b[0m\n\u001b[1;32m    411\u001b[0m ani \u001b[38;5;241m=\u001b[39m FuncAnimation(fig, update, frames\u001b[38;5;241m=\u001b[39mframe_number, interval\u001b[38;5;241m=\u001b[39m\u001b[38;5;241m1000\u001b[39m \u001b[38;5;241m/\u001b[39m fps, repeat\u001b[38;5;241m=\u001b[39m\u001b[38;5;28;01mFalse\u001b[39;00m)\n\u001b[1;32m    413\u001b[0m \u001b[38;5;66;03m# writer = FFMpegFileWriter(fps=fps)\u001b[39;00m\n\u001b[0;32m--> 414\u001b[0m \u001b[43mani\u001b[49m\u001b[38;5;241;43m.\u001b[39;49m\u001b[43msave\u001b[49m\u001b[43m(\u001b[49m\u001b[43msave_path\u001b[49m\u001b[43m,\u001b[49m\u001b[43m \u001b[49m\u001b[43mfps\u001b[49m\u001b[38;5;241;43m=\u001b[39;49m\u001b[43mfps\u001b[49m\u001b[43m)\u001b[49m\n\u001b[1;32m    415\u001b[0m plt\u001b[38;5;241m.\u001b[39mclose()\n",
      "File \u001b[0;32m/opt/conda/envs/salad/salad/lib/python3.9/site-packages/matplotlib/animation.py:1145\u001b[0m, in \u001b[0;36mAnimation.save\u001b[0;34m(self, filename, writer, fps, dpi, codec, bitrate, extra_args, metadata, extra_anim, savefig_kwargs, progress_callback)\u001b[0m\n\u001b[1;32m   1143\u001b[0m         progress_callback(frame_number, total_frames)\n\u001b[1;32m   1144\u001b[0m         frame_number \u001b[38;5;241m+\u001b[39m\u001b[38;5;241m=\u001b[39m \u001b[38;5;241m1\u001b[39m\n\u001b[0;32m-> 1145\u001b[0m writer\u001b[38;5;241m.\u001b[39mgrab_frame(\u001b[38;5;241m*\u001b[39m\u001b[38;5;241m*\u001b[39msavefig_kwargs)\n",
      "File \u001b[0;32m/opt/conda/envs/salad/salad/lib/python3.9/contextlib.py:137\u001b[0m, in \u001b[0;36m_GeneratorContextManager.__exit__\u001b[0;34m(self, typ, value, traceback)\u001b[0m\n\u001b[1;32m    135\u001b[0m     value \u001b[38;5;241m=\u001b[39m typ()\n\u001b[1;32m    136\u001b[0m \u001b[38;5;28;01mtry\u001b[39;00m:\n\u001b[0;32m--> 137\u001b[0m     \u001b[38;5;28;43mself\u001b[39;49m\u001b[38;5;241;43m.\u001b[39;49m\u001b[43mgen\u001b[49m\u001b[38;5;241;43m.\u001b[39;49m\u001b[43mthrow\u001b[49m\u001b[43m(\u001b[49m\u001b[43mtyp\u001b[49m\u001b[43m,\u001b[49m\u001b[43m \u001b[49m\u001b[43mvalue\u001b[49m\u001b[43m,\u001b[49m\u001b[43m \u001b[49m\u001b[43mtraceback\u001b[49m\u001b[43m)\u001b[49m\n\u001b[1;32m    138\u001b[0m \u001b[38;5;28;01mexcept\u001b[39;00m \u001b[38;5;167;01mStopIteration\u001b[39;00m \u001b[38;5;28;01mas\u001b[39;00m exc:\n\u001b[1;32m    139\u001b[0m     \u001b[38;5;66;03m# Suppress StopIteration *unless* it's the same exception that\u001b[39;00m\n\u001b[1;32m    140\u001b[0m     \u001b[38;5;66;03m# was passed to throw().  This prevents a StopIteration\u001b[39;00m\n\u001b[1;32m    141\u001b[0m     \u001b[38;5;66;03m# raised inside the \"with\" statement from being suppressed.\u001b[39;00m\n\u001b[1;32m    142\u001b[0m     \u001b[38;5;28;01mreturn\u001b[39;00m exc \u001b[38;5;129;01mis\u001b[39;00m \u001b[38;5;129;01mnot\u001b[39;00m value\n",
      "File \u001b[0;32m/opt/conda/envs/salad/salad/lib/python3.9/site-packages/matplotlib/animation.py:253\u001b[0m, in \u001b[0;36mAbstractMovieWriter.saving\u001b[0;34m(self, fig, outfile, dpi, *args, **kwargs)\u001b[0m\n\u001b[1;32m    251\u001b[0m     \u001b[38;5;28;01myield\u001b[39;00m \u001b[38;5;28mself\u001b[39m\n\u001b[1;32m    252\u001b[0m \u001b[38;5;28;01mfinally\u001b[39;00m:\n\u001b[0;32m--> 253\u001b[0m     \u001b[38;5;28;43mself\u001b[39;49m\u001b[38;5;241;43m.\u001b[39;49m\u001b[43mfinish\u001b[49m\u001b[43m(\u001b[49m\u001b[43m)\u001b[49m\n",
      "File \u001b[0;32m/opt/conda/envs/salad/salad/lib/python3.9/site-packages/matplotlib/animation.py:354\u001b[0m, in \u001b[0;36mMovieWriter.finish\u001b[0;34m(self)\u001b[0m\n\u001b[1;32m    352\u001b[0m \u001b[38;5;28;01mdef\u001b[39;00m\u001b[38;5;250m \u001b[39m\u001b[38;5;21mfinish\u001b[39m(\u001b[38;5;28mself\u001b[39m):\n\u001b[1;32m    353\u001b[0m \u001b[38;5;250m    \u001b[39m\u001b[38;5;124;03m\"\"\"Finish any processing for writing the movie.\"\"\"\u001b[39;00m\n\u001b[0;32m--> 354\u001b[0m     \u001b[38;5;28;43mself\u001b[39;49m\u001b[38;5;241;43m.\u001b[39;49m\u001b[43mcleanup\u001b[49m\u001b[43m(\u001b[49m\u001b[43m)\u001b[49m\n",
      "File \u001b[0;32m/opt/conda/envs/salad/salad/lib/python3.9/site-packages/matplotlib/animation.py:390\u001b[0m, in \u001b[0;36mMovieWriter.cleanup\u001b[0;34m(self)\u001b[0m\n\u001b[1;32m    386\u001b[0m     _log\u001b[38;5;241m.\u001b[39mlog(\n\u001b[1;32m    387\u001b[0m         logging\u001b[38;5;241m.\u001b[39mWARNING \u001b[38;5;28;01mif\u001b[39;00m \u001b[38;5;28mself\u001b[39m\u001b[38;5;241m.\u001b[39m_proc\u001b[38;5;241m.\u001b[39mreturncode \u001b[38;5;28;01melse\u001b[39;00m logging\u001b[38;5;241m.\u001b[39mDEBUG,\n\u001b[1;32m    388\u001b[0m         \u001b[38;5;124m\"\u001b[39m\u001b[38;5;124mMovieWriter stderr:\u001b[39m\u001b[38;5;130;01m\\n\u001b[39;00m\u001b[38;5;132;01m%s\u001b[39;00m\u001b[38;5;124m\"\u001b[39m, err)\n\u001b[1;32m    389\u001b[0m \u001b[38;5;28;01mif\u001b[39;00m \u001b[38;5;28mself\u001b[39m\u001b[38;5;241m.\u001b[39m_proc\u001b[38;5;241m.\u001b[39mreturncode:\n\u001b[0;32m--> 390\u001b[0m     \u001b[38;5;28;01mraise\u001b[39;00m subprocess\u001b[38;5;241m.\u001b[39mCalledProcessError(\n\u001b[1;32m    391\u001b[0m         \u001b[38;5;28mself\u001b[39m\u001b[38;5;241m.\u001b[39m_proc\u001b[38;5;241m.\u001b[39mreturncode, \u001b[38;5;28mself\u001b[39m\u001b[38;5;241m.\u001b[39m_proc\u001b[38;5;241m.\u001b[39margs, out, err)\n",
      "\u001b[0;31mCalledProcessError\u001b[0m: Command '['ffmpeg', '-f', 'rawvideo', '-vcodec', 'rawvideo', '-s', '1000x1000', '-pix_fmt', 'rgba', '-r', '20', '-loglevel', 'error', '-i', 'pipe:', '-vcodec', 'h264', '-pix_fmt', 'yuv420p', '-y', 'video/4/reconstruct/030075_reconstructed.mp4']' returned non-zero exit status 255."
     ]
    }
   ],
   "source": [
    "from glob import glob\n",
    "\n",
    "device = 'cuda:0'\n",
    "opt = get_opt(\"checkpoints/t2m/t2m_denoiser_vpred_vaegelu/opt.txt\", device)\n",
    "\n",
    "input_folder = \"/source/junhyuk/motion-style/results/4/reconstruct\"\n",
    "output_folder = \"video/4/reconstruct\"\n",
    "os.makedirs(output_folder, exist_ok=True)\n",
    "\n",
    "npy_files = sorted(glob(os.path.join(input_folder, \"*_reconstructed.npy\")))\n",
    "\n",
    "for npy_file in npy_files:\n",
    "    filename = os.path.basename(npy_file)\n",
    "    basename = os.path.splitext(filename)[0]  # e.g., \"030075_reconstructed\"\n",
    "\n",
    "    data = np.load(npy_file)\n",
    "    joint = recover_from_ric(torch.from_numpy(data).float(), opt.joints_num).numpy()\n",
    "\n",
    "    save_path = os.path.join(output_folder, f\"{basename}.mp4\")\n",
    "    plot_3d_motion(save_path, opt.kinematic_chain, joint, title=basename, fps=20)\n",
    "\n",
    "    print(\"✅ Saved\", save_path)"
   ]
  },
  {
   "cell_type": "code",
   "execution_count": 3,
   "id": "b62aef4b",
   "metadata": {
    "collapsed": true,
    "jupyter": {
     "outputs_hidden": true
    },
    "scrolled": true
   },
   "outputs": [
    {
     "name": "stdout",
     "output_type": "stream",
     "text": [
      "Reading checkpoints/t2m/t2m_denoiser_vpred_vaegelu/opt.txt\n",
      "✅ Saved video/4/style/030075_Flapping.mp4\n",
      "✅ Saved video/4/style/030348_Flapping.mp4\n",
      "✅ Saved video/4/style/030417_Flapping.mp4\n",
      "✅ Saved video/4/style/030583_Flapping.mp4\n",
      "✅ Saved video/4/style/030597_Flapping.mp4\n",
      "✅ Saved video/4/style/030719_Flapping.mp4\n",
      "✅ Saved video/4/style/030891_Flapping.mp4\n",
      "✅ Saved video/4/style/031037_Flapping.mp4\n",
      "✅ Saved video/4/style/031053_Flapping.mp4\n",
      "✅ Saved video/4/style/031218_Flapping.mp4\n",
      "✅ Saved video/4/style/031263_Flapping.mp4\n",
      "✅ Saved video/4/style/031297_Flapping.mp4\n",
      "✅ Saved video/4/style/031393_Flapping.mp4\n",
      "✅ Saved video/4/style/031536_Flapping.mp4\n",
      "✅ Saved video/4/style/031679_Flapping.mp4\n",
      "✅ Saved video/4/style/032253_Flapping.mp4\n",
      "✅ Saved video/4/style/032339_Flapping.mp4\n",
      "✅ Saved video/4/style/032474_Flapping.mp4\n",
      "✅ Saved video/4/style/032479_Flapping.mp4\n",
      "✅ Saved video/4/style/032599_Flapping.mp4\n",
      "✅ Saved video/4/style/032786_Flapping.mp4\n",
      "✅ Saved video/4/style/033048_Flapping.mp4\n",
      "✅ Saved video/4/style/033076_Flapping.mp4\n",
      "✅ Saved video/4/style/033210_Flapping.mp4\n",
      "✅ Saved video/4/style/033240_Flapping.mp4\n",
      "✅ Saved video/4/style/033531_Flapping.mp4\n",
      "✅ Saved video/4/style/033607_Flapping.mp4\n",
      "✅ Saved video/4/style/033773_Flapping.mp4\n",
      "✅ Saved video/4/style/034008_Flapping.mp4\n",
      "✅ Saved video/4/style/034067_Flapping.mp4\n",
      "✅ Saved video/4/style/034179_Flapping.mp4\n",
      "✅ Saved video/4/style/034187_Flapping.mp4\n",
      "✅ Saved video/4/style/034188_Flapping.mp4\n",
      "✅ Saved video/4/style/034902_Flapping.mp4\n",
      "✅ Saved video/4/style/035617_Flapping.mp4\n",
      "✅ Saved video/4/style/036094_Flapping.mp4\n",
      "✅ Saved video/4/style/036299_Flapping.mp4\n",
      "✅ Saved video/4/style/036633_Flapping.mp4\n",
      "✅ Saved video/4/style/036669_Flapping.mp4\n",
      "✅ Saved video/4/style/036866_Flapping.mp4\n",
      "✅ Saved video/4/style/036956_Flapping.mp4\n",
      "✅ Saved video/4/style/037171_Flapping.mp4\n",
      "✅ Saved video/4/style/037258_Flapping.mp4\n",
      "✅ Saved video/4/style/037280_Flapping.mp4\n",
      "✅ Saved video/4/style/037509_Flapping.mp4\n",
      "✅ Saved video/4/style/037654_Flapping.mp4\n",
      "✅ Saved video/4/style/037861_Flapping.mp4\n",
      "✅ Saved video/4/style/038008_Flapping.mp4\n",
      "✅ Saved video/4/style/M030374_Flapping.mp4\n",
      "✅ Saved video/4/style/M030438_Flapping.mp4\n",
      "✅ Saved video/4/style/M030440_Flapping.mp4\n",
      "✅ Saved video/4/style/M030916_Flapping.mp4\n",
      "✅ Saved video/4/style/M031150_Flapping.mp4\n",
      "✅ Saved video/4/style/M031209_Flapping.mp4\n",
      "✅ Saved video/4/style/M031306_Flapping.mp4\n",
      "✅ Saved video/4/style/M031310_Flapping.mp4\n",
      "✅ Saved video/4/style/M031827_Flapping.mp4\n",
      "✅ Saved video/4/style/M031862_Flapping.mp4\n",
      "✅ Saved video/4/style/M031911_Flapping.mp4\n",
      "✅ Saved video/4/style/M031914_Flapping.mp4\n",
      "✅ Saved video/4/style/M031956_Flapping.mp4\n",
      "✅ Saved video/4/style/M032158_Flapping.mp4\n",
      "✅ Saved video/4/style/M032420_Flapping.mp4\n",
      "✅ Saved video/4/style/M032490_Flapping.mp4\n",
      "✅ Saved video/4/style/M032518_Flapping.mp4\n",
      "✅ Saved video/4/style/M032588_Flapping.mp4\n",
      "✅ Saved video/4/style/M032654_Flapping.mp4\n",
      "✅ Saved video/4/style/M032655_Flapping.mp4\n",
      "✅ Saved video/4/style/M032786_Flapping.mp4\n",
      "✅ Saved video/4/style/M032958_Flapping.mp4\n",
      "✅ Saved video/4/style/M032975_Flapping.mp4\n",
      "✅ Saved video/4/style/M032996_Flapping.mp4\n",
      "✅ Saved video/4/style/M033076_Flapping.mp4\n",
      "✅ Saved video/4/style/M033078_Flapping.mp4\n",
      "✅ Saved video/4/style/M033735_Flapping.mp4\n",
      "✅ Saved video/4/style/M033825_Flapping.mp4\n"
     ]
    },
    {
     "ename": "KeyboardInterrupt",
     "evalue": "",
     "output_type": "error",
     "traceback": [
      "\u001b[0;31m---------------------------------------------------------------------------\u001b[0m",
      "\u001b[0;31mKeyboardInterrupt\u001b[0m                         Traceback (most recent call last)",
      "Cell \u001b[0;32mIn[3], line 20\u001b[0m\n\u001b[1;32m     17\u001b[0m joint \u001b[38;5;241m=\u001b[39m recover_from_ric(torch\u001b[38;5;241m.\u001b[39mfrom_numpy(data)\u001b[38;5;241m.\u001b[39mfloat(), opt\u001b[38;5;241m.\u001b[39mjoints_num)\u001b[38;5;241m.\u001b[39mnumpy()\n\u001b[1;32m     19\u001b[0m save_path \u001b[38;5;241m=\u001b[39m os\u001b[38;5;241m.\u001b[39mpath\u001b[38;5;241m.\u001b[39mjoin(output_folder, \u001b[38;5;124mf\u001b[39m\u001b[38;5;124m\"\u001b[39m\u001b[38;5;132;01m{\u001b[39;00mbasename\u001b[38;5;132;01m}\u001b[39;00m\u001b[38;5;124m.mp4\u001b[39m\u001b[38;5;124m\"\u001b[39m)\n\u001b[0;32m---> 20\u001b[0m \u001b[43mplot_3d_motion\u001b[49m\u001b[43m(\u001b[49m\u001b[43msave_path\u001b[49m\u001b[43m,\u001b[49m\u001b[43m \u001b[49m\u001b[43mopt\u001b[49m\u001b[38;5;241;43m.\u001b[39;49m\u001b[43mkinematic_chain\u001b[49m\u001b[43m,\u001b[49m\u001b[43m \u001b[49m\u001b[43mjoint\u001b[49m\u001b[43m,\u001b[49m\u001b[43m \u001b[49m\u001b[43mtitle\u001b[49m\u001b[38;5;241;43m=\u001b[39;49m\u001b[43mbasename\u001b[49m\u001b[43m,\u001b[49m\u001b[43m \u001b[49m\u001b[43mfps\u001b[49m\u001b[38;5;241;43m=\u001b[39;49m\u001b[38;5;241;43m20\u001b[39;49m\u001b[43m)\u001b[49m\n\u001b[1;32m     22\u001b[0m \u001b[38;5;28mprint\u001b[39m(\u001b[38;5;124m\"\u001b[39m\u001b[38;5;124m✅ Saved\u001b[39m\u001b[38;5;124m\"\u001b[39m, save_path)\n",
      "File \u001b[0;32m/source/junhyuk/motion-style/salad/utils/plot_script.py:414\u001b[0m, in \u001b[0;36mplot_3d_motion\u001b[0;34m(save_path, kinematic_tree, joints, title, figsize, fps, radius)\u001b[0m\n\u001b[1;32m    411\u001b[0m ani \u001b[38;5;241m=\u001b[39m FuncAnimation(fig, update, frames\u001b[38;5;241m=\u001b[39mframe_number, interval\u001b[38;5;241m=\u001b[39m\u001b[38;5;241m1000\u001b[39m \u001b[38;5;241m/\u001b[39m fps, repeat\u001b[38;5;241m=\u001b[39m\u001b[38;5;28;01mFalse\u001b[39;00m)\n\u001b[1;32m    413\u001b[0m \u001b[38;5;66;03m# writer = FFMpegFileWriter(fps=fps)\u001b[39;00m\n\u001b[0;32m--> 414\u001b[0m \u001b[43mani\u001b[49m\u001b[38;5;241;43m.\u001b[39;49m\u001b[43msave\u001b[49m\u001b[43m(\u001b[49m\u001b[43msave_path\u001b[49m\u001b[43m,\u001b[49m\u001b[43m \u001b[49m\u001b[43mfps\u001b[49m\u001b[38;5;241;43m=\u001b[39;49m\u001b[43mfps\u001b[49m\u001b[43m)\u001b[49m\n\u001b[1;32m    415\u001b[0m plt\u001b[38;5;241m.\u001b[39mclose()\n",
      "File \u001b[0;32m/opt/conda/envs/salad/salad/lib/python3.9/site-packages/matplotlib/animation.py:1096\u001b[0m, in \u001b[0;36mAnimation.save\u001b[0;34m(self, filename, writer, fps, dpi, codec, bitrate, extra_args, metadata, extra_anim, savefig_kwargs, progress_callback)\u001b[0m\n\u001b[1;32m   1094\u001b[0m \u001b[38;5;28;01mif\u001b[39;00m \u001b[38;5;28misinstance\u001b[39m(writer, \u001b[38;5;28mstr\u001b[39m):\n\u001b[1;32m   1095\u001b[0m     \u001b[38;5;28;01mtry\u001b[39;00m:\n\u001b[0;32m-> 1096\u001b[0m         writer_cls \u001b[38;5;241m=\u001b[39m \u001b[43mwriters\u001b[49m\u001b[43m[\u001b[49m\u001b[43mwriter\u001b[49m\u001b[43m]\u001b[49m\n\u001b[1;32m   1097\u001b[0m     \u001b[38;5;28;01mexcept\u001b[39;00m \u001b[38;5;167;01mRuntimeError\u001b[39;00m:  \u001b[38;5;66;03m# Raised if not available.\u001b[39;00m\n\u001b[1;32m   1098\u001b[0m         writer_cls \u001b[38;5;241m=\u001b[39m PillowWriter  \u001b[38;5;66;03m# Always available.\u001b[39;00m\n",
      "File \u001b[0;32m/opt/conda/envs/salad/salad/lib/python3.9/site-packages/matplotlib/animation.py:164\u001b[0m, in \u001b[0;36mMovieWriterRegistry.__getitem__\u001b[0;34m(self, name)\u001b[0m\n\u001b[1;32m    162\u001b[0m \u001b[38;5;28;01mdef\u001b[39;00m\u001b[38;5;250m \u001b[39m\u001b[38;5;21m__getitem__\u001b[39m(\u001b[38;5;28mself\u001b[39m, name):\n\u001b[1;32m    163\u001b[0m \u001b[38;5;250m    \u001b[39m\u001b[38;5;124;03m\"\"\"Get an available writer class from its name.\"\"\"\u001b[39;00m\n\u001b[0;32m--> 164\u001b[0m     \u001b[38;5;28;01mif\u001b[39;00m \u001b[38;5;28;43mself\u001b[39;49m\u001b[38;5;241;43m.\u001b[39;49m\u001b[43mis_available\u001b[49m\u001b[43m(\u001b[49m\u001b[43mname\u001b[49m\u001b[43m)\u001b[49m:\n\u001b[1;32m    165\u001b[0m         \u001b[38;5;28;01mreturn\u001b[39;00m \u001b[38;5;28mself\u001b[39m\u001b[38;5;241m.\u001b[39m_registered[name]\n\u001b[1;32m    166\u001b[0m     \u001b[38;5;28;01mraise\u001b[39;00m \u001b[38;5;167;01mRuntimeError\u001b[39;00m(\u001b[38;5;124mf\u001b[39m\u001b[38;5;124m\"\u001b[39m\u001b[38;5;124mRequested MovieWriter (\u001b[39m\u001b[38;5;132;01m{\u001b[39;00mname\u001b[38;5;132;01m}\u001b[39;00m\u001b[38;5;124m) not available\u001b[39m\u001b[38;5;124m\"\u001b[39m)\n",
      "File \u001b[0;32m/opt/conda/envs/salad/salad/lib/python3.9/site-packages/matplotlib/animation.py:150\u001b[0m, in \u001b[0;36mMovieWriterRegistry.is_available\u001b[0;34m(self, name)\u001b[0m\n\u001b[1;32m    148\u001b[0m \u001b[38;5;28;01mexcept\u001b[39;00m \u001b[38;5;167;01mKeyError\u001b[39;00m:\n\u001b[1;32m    149\u001b[0m     \u001b[38;5;28;01mreturn\u001b[39;00m \u001b[38;5;28;01mFalse\u001b[39;00m\n\u001b[0;32m--> 150\u001b[0m \u001b[38;5;28;01mreturn\u001b[39;00m \u001b[38;5;28;43mcls\u001b[39;49m\u001b[38;5;241;43m.\u001b[39;49m\u001b[43misAvailable\u001b[49m\u001b[43m(\u001b[49m\u001b[43m)\u001b[49m\n",
      "File \u001b[0;32m/opt/conda/envs/salad/salad/lib/python3.9/site-packages/matplotlib/animation.py:606\u001b[0m, in \u001b[0;36mFFMpegBase.isAvailable\u001b[0;34m(cls)\u001b[0m\n\u001b[1;32m    600\u001b[0m \u001b[38;5;129m@classmethod\u001b[39m\n\u001b[1;32m    601\u001b[0m \u001b[38;5;28;01mdef\u001b[39;00m\u001b[38;5;250m \u001b[39m\u001b[38;5;21misAvailable\u001b[39m(\u001b[38;5;28mcls\u001b[39m):\n\u001b[1;32m    602\u001b[0m     \u001b[38;5;28;01mreturn\u001b[39;00m (\n\u001b[1;32m    603\u001b[0m         \u001b[38;5;28msuper\u001b[39m()\u001b[38;5;241m.\u001b[39misAvailable()\n\u001b[1;32m    604\u001b[0m         \u001b[38;5;66;03m# Ubuntu 12.04 ships a broken ffmpeg binary which we shouldn't use.\u001b[39;00m\n\u001b[1;32m    605\u001b[0m         \u001b[38;5;66;03m# NOTE: when removed, remove the same method in AVConvBase.\u001b[39;00m\n\u001b[0;32m--> 606\u001b[0m         \u001b[38;5;129;01mand\u001b[39;00m \u001b[38;5;124mb\u001b[39m\u001b[38;5;124m'\u001b[39m\u001b[38;5;124mLibAv\u001b[39m\u001b[38;5;124m'\u001b[39m \u001b[38;5;129;01mnot\u001b[39;00m \u001b[38;5;129;01min\u001b[39;00m \u001b[43msubprocess\u001b[49m\u001b[38;5;241;43m.\u001b[39;49m\u001b[43mrun\u001b[49m\u001b[43m(\u001b[49m\n\u001b[1;32m    607\u001b[0m \u001b[43m            \u001b[49m\u001b[43m[\u001b[49m\u001b[38;5;28;43mcls\u001b[39;49m\u001b[38;5;241;43m.\u001b[39;49m\u001b[43mbin_path\u001b[49m\u001b[43m(\u001b[49m\u001b[43m)\u001b[49m\u001b[43m]\u001b[49m\u001b[43m,\u001b[49m\u001b[43m \u001b[49m\u001b[43mcreationflags\u001b[49m\u001b[38;5;241;43m=\u001b[39;49m\u001b[43msubprocess_creation_flags\u001b[49m\u001b[43m,\u001b[49m\n\u001b[1;32m    608\u001b[0m \u001b[43m            \u001b[49m\u001b[43mstdin\u001b[49m\u001b[38;5;241;43m=\u001b[39;49m\u001b[43msubprocess\u001b[49m\u001b[38;5;241;43m.\u001b[39;49m\u001b[43mDEVNULL\u001b[49m\u001b[43m,\u001b[49m\u001b[43m \u001b[49m\u001b[43mstdout\u001b[49m\u001b[38;5;241;43m=\u001b[39;49m\u001b[43msubprocess\u001b[49m\u001b[38;5;241;43m.\u001b[39;49m\u001b[43mDEVNULL\u001b[49m\u001b[43m,\u001b[49m\n\u001b[1;32m    609\u001b[0m \u001b[43m            \u001b[49m\u001b[43mstderr\u001b[49m\u001b[38;5;241;43m=\u001b[39;49m\u001b[43msubprocess\u001b[49m\u001b[38;5;241;43m.\u001b[39;49m\u001b[43mPIPE\u001b[49m\u001b[43m)\u001b[49m\u001b[38;5;241m.\u001b[39mstderr)\n",
      "File \u001b[0;32m/opt/conda/envs/salad/salad/lib/python3.9/subprocess.py:507\u001b[0m, in \u001b[0;36mrun\u001b[0;34m(input, capture_output, timeout, check, *popenargs, **kwargs)\u001b[0m\n\u001b[1;32m    505\u001b[0m \u001b[38;5;28;01mwith\u001b[39;00m Popen(\u001b[38;5;241m*\u001b[39mpopenargs, \u001b[38;5;241m*\u001b[39m\u001b[38;5;241m*\u001b[39mkwargs) \u001b[38;5;28;01mas\u001b[39;00m process:\n\u001b[1;32m    506\u001b[0m     \u001b[38;5;28;01mtry\u001b[39;00m:\n\u001b[0;32m--> 507\u001b[0m         stdout, stderr \u001b[38;5;241m=\u001b[39m \u001b[43mprocess\u001b[49m\u001b[38;5;241;43m.\u001b[39;49m\u001b[43mcommunicate\u001b[49m\u001b[43m(\u001b[49m\u001b[38;5;28;43minput\u001b[39;49m\u001b[43m,\u001b[49m\u001b[43m \u001b[49m\u001b[43mtimeout\u001b[49m\u001b[38;5;241;43m=\u001b[39;49m\u001b[43mtimeout\u001b[49m\u001b[43m)\u001b[49m\n\u001b[1;32m    508\u001b[0m     \u001b[38;5;28;01mexcept\u001b[39;00m TimeoutExpired \u001b[38;5;28;01mas\u001b[39;00m exc:\n\u001b[1;32m    509\u001b[0m         process\u001b[38;5;241m.\u001b[39mkill()\n",
      "File \u001b[0;32m/opt/conda/envs/salad/salad/lib/python3.9/subprocess.py:1124\u001b[0m, in \u001b[0;36mPopen.communicate\u001b[0;34m(self, input, timeout)\u001b[0m\n\u001b[1;32m   1122\u001b[0m     \u001b[38;5;28mself\u001b[39m\u001b[38;5;241m.\u001b[39mstdout\u001b[38;5;241m.\u001b[39mclose()\n\u001b[1;32m   1123\u001b[0m \u001b[38;5;28;01melif\u001b[39;00m \u001b[38;5;28mself\u001b[39m\u001b[38;5;241m.\u001b[39mstderr:\n\u001b[0;32m-> 1124\u001b[0m     stderr \u001b[38;5;241m=\u001b[39m \u001b[38;5;28;43mself\u001b[39;49m\u001b[38;5;241;43m.\u001b[39;49m\u001b[43mstderr\u001b[49m\u001b[38;5;241;43m.\u001b[39;49m\u001b[43mread\u001b[49m\u001b[43m(\u001b[49m\u001b[43m)\u001b[49m\n\u001b[1;32m   1125\u001b[0m     \u001b[38;5;28mself\u001b[39m\u001b[38;5;241m.\u001b[39mstderr\u001b[38;5;241m.\u001b[39mclose()\n\u001b[1;32m   1126\u001b[0m \u001b[38;5;28mself\u001b[39m\u001b[38;5;241m.\u001b[39mwait()\n",
      "\u001b[0;31mKeyboardInterrupt\u001b[0m: "
     ]
    }
   ],
   "source": [
    "from glob import glob\n",
    "\n",
    "device = 'cuda:0'\n",
    "opt = get_opt(\"checkpoints/t2m/t2m_denoiser_vpred_vaegelu/opt.txt\", device)\n",
    "\n",
    "input_folder = \"/source/junhyuk/motion-style/results/4/style\"\n",
    "output_folder = \"video/4/style\"\n",
    "os.makedirs(output_folder, exist_ok=True)\n",
    "\n",
    "npy_files = sorted(glob(os.path.join(input_folder, \"*.npy\")))\n",
    "\n",
    "for npy_file in npy_files:\n",
    "    filename = os.path.basename(npy_file)\n",
    "    basename = os.path.splitext(filename)[0]  # e.g., \"030075_reconstructed\"\n",
    "\n",
    "    data = np.load(npy_file)\n",
    "    joint = recover_from_ric(torch.from_numpy(data).float(), opt.joints_num).numpy()\n",
    "\n",
    "    save_path = os.path.join(output_folder, f\"{basename}.mp4\")\n",
    "    plot_3d_motion(save_path, opt.kinematic_chain, joint, title=basename, fps=20)\n",
    "\n",
    "    print(\"✅ Saved\", save_path)"
   ]
  },
  {
   "cell_type": "code",
   "execution_count": null,
   "id": "58b7c3bd",
   "metadata": {},
   "outputs": [
    {
     "name": "stdout",
     "output_type": "stream",
     "text": [
      "Reading checkpoints/t2m/t2m_denoiser_vpred_vaegelu/opt.txt\n",
      "Reading checkpoints/t2m/t2m_vae_gelu/opt.txt\n",
      "Loading VAE Model t2m_vae_gelu\n",
      "Loading Denoiser Model t2m_denoiser_vpred_vaegelu\n"
     ]
    },
    {
     "name": "stderr",
     "output_type": "stream",
     "text": [
      "0it [00:00, ?it/s]\n"
     ]
    },
    {
     "name": "stdout",
     "output_type": "stream",
     "text": [
      "Loaded CLIP text encoder version ViT-B/32\n"
     ]
    }
   ],
   "source": [
    "denoiser_name = \"t2m_denoiser_vpred_vaegelu\"\n",
    "dataset_name = \"t2m\"\n",
    "model = Text2Motion(denoiser_name, dataset_name)\n",
    "device = 'cuda:0'"
   ]
  },
  {
   "cell_type": "code",
   "execution_count": null,
   "id": "068d6bc8",
   "metadata": {},
   "outputs": [
    {
     "name": "stdout",
     "output_type": "stream",
     "text": [
      "Reading ./checkpoints/t2m/Comp_v6_KLD005/opt.txt\n"
     ]
    }
   ],
   "source": [
    "data_opt = get_opt(model.opt.dataset_opt_path, torch.device('cuda'))\n",
    "mean = np.load(pjoin(data_opt.meta_dir, 'mean.npy'))\n",
    "std = np.load(pjoin(data_opt.meta_dir, 'std.npy'))"
   ]
  },
  {
   "cell_type": "code",
   "execution_count": null,
   "id": "a62ee4a0",
   "metadata": {},
   "outputs": [
    {
     "ename": "NameError",
     "evalue": "name 'model' is not defined",
     "output_type": "error",
     "traceback": [
      "\u001b[0;31m---------------------------------------------------------------------------\u001b[0m",
      "\u001b[0;31mNameError\u001b[0m                                 Traceback (most recent call last)",
      "Cell \u001b[0;32mIn[3], line 1\u001b[0m\n\u001b[0;32m----> 1\u001b[0m opt \u001b[38;5;241m=\u001b[39m \u001b[43mmodel\u001b[49m\u001b[38;5;241m.\u001b[39mvae_opt\n\u001b[1;32m      2\u001b[0m data \u001b[38;5;241m=\u001b[39m MotionDataset(opt, mean, std, \u001b[38;5;124m'\u001b[39m\u001b[38;5;124m./dataset/100style/100style.txt\u001b[39m\u001b[38;5;124m'\u001b[39m)\n\u001b[1;32m      3\u001b[0m dataloader \u001b[38;5;241m=\u001b[39m DataLoader(data, batch_size\u001b[38;5;241m=\u001b[39m\u001b[38;5;241m1\u001b[39m, drop_last\u001b[38;5;241m=\u001b[39m\u001b[38;5;28;01mTrue\u001b[39;00m, num_workers\u001b[38;5;241m=\u001b[39mopt\u001b[38;5;241m.\u001b[39mnum_workers, shuffle\u001b[38;5;241m=\u001b[39m\u001b[38;5;28;01mFalse\u001b[39;00m, pin_memory\u001b[38;5;241m=\u001b[39m\u001b[38;5;28;01mTrue\u001b[39;00m)\n",
      "\u001b[0;31mNameError\u001b[0m: name 'model' is not defined"
     ]
    }
   ],
   "source": [
    "opt = model.vae_opt\n",
    "data = MotionDataset(opt, mean, std, './dataset/100style/100style.txt')\n",
    "dataloader = DataLoader(data, batch_size=1, drop_last=True, num_workers=opt.num_workers, shuffle=False, pin_memory=True)"
   ]
  },
  {
   "cell_type": "code",
   "execution_count": null,
   "id": "76afc485",
   "metadata": {},
   "outputs": [],
   "source": [
    "motions = []\n",
    "for i, batch in enumerate(dataloader):\n",
    "    batch  = batch.to(device, dtype=torch.float32)\n",
    "    z, _   = model.vae.encode(batch)\n",
    "    motion = model.vae.decode(z)\n",
    "    motions.append(motion)"
   ]
  },
  {
   "cell_type": "code",
   "execution_count": null,
   "id": "64fc58d3",
   "metadata": {},
   "outputs": [
    {
     "name": "stdout",
     "output_type": "stream",
     "text": [
      "(260, 22, 3)\n"
     ]
    }
   ],
   "source": [
    "motion_id = open(f'./dataset/100style/100style.txt').readlines()[0].strip()\n",
    "src_motion = motions[0].detach().cpu().numpy() * std + mean\n",
    "plot_t2m(src_motion[0], \"recon\", \"src\")\n",
    "plot_og(f'./dataset/100style/new_joints/{motion_id}.npy', \"og\", \"og\")"
   ]
  },
  {
   "cell_type": "code",
   "execution_count": null,
   "id": "2a0f04d4",
   "metadata": {},
   "outputs": [
    {
     "name": "stdout",
     "output_type": "stream",
     "text": [
      "Moviepy - Building video reconstruction_result/final.mp4.\n",
      "Moviepy - Writing video reconstruction_result/final.mp4\n",
      "\n"
     ]
    },
    {
     "name": "stderr",
     "output_type": "stream",
     "text": [
      "                                                              \r"
     ]
    },
    {
     "name": "stdout",
     "output_type": "stream",
     "text": [
      "Moviepy - Done !\n",
      "Moviepy - video ready reconstruction_result/final.mp4\n"
     ]
    },
    {
     "data": {
      "text/html": [
       "<video src=\"reconstruction_result/final.mp4\" controls  width=\"800\"  height=\"400\">\n",
       "      Your browser does not support the <code>video</code> element.\n",
       "    </video>"
      ],
      "text/plain": [
       "<IPython.core.display.Video object>"
      ]
     },
     "execution_count": 105,
     "metadata": {},
     "output_type": "execute_result"
    }
   ],
   "source": [
    "from moviepy.editor import VideoFileClip, clips_array\n",
    "og_video = VideoFileClip(pjoin(\"delete\", \"1.mp4\"))\n",
    "src_video = VideoFileClip(pjoin(\"delete\", \"2.mp4\"))\n",
    "final_video = clips_array([[og_video, src_video]])\n",
    "final_video.write_videofile(pjoin(\"reconstruction_result\", \"final.mp4\"))\n",
    "\n",
    "from IPython.display import Video\n",
    "Video(\"reconstruction_result/final.mp4\", width=800, height=400)"
   ]
  },
  {
   "cell_type": "code",
   "execution_count": null,
   "id": "82871833",
   "metadata": {},
   "outputs": [],
   "source": [
    "joint1 = np.load('./reconstruction_result/src_pos.npy');"
   ]
  },
  {
   "cell_type": "code",
   "execution_count": null,
   "id": "ed1650fb",
   "metadata": {},
   "outputs": [],
   "source": [
    "joint2 = np.load(f'./dataset/100style/new_joints/{motion_id}.npy')[:260]"
   ]
  }
 ],
 "metadata": {
  "kernelspec": {
   "display_name": "Python 3 (ipykernel)",
   "language": "python",
   "name": "python3"
  },
  "language_info": {
   "codemirror_mode": {
    "name": "ipython",
    "version": 3
   },
   "file_extension": ".py",
   "mimetype": "text/x-python",
   "name": "python",
   "nbconvert_exporter": "python",
   "pygments_lexer": "ipython3",
   "version": "3.10.16"
  }
 },
 "nbformat": 4,
 "nbformat_minor": 5
}
